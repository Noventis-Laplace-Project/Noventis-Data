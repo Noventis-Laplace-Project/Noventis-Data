{
 "cells": [
  {
   "cell_type": "markdown",
   "id": "1597a0e0",
   "metadata": {},
   "source": [
    "# Sel 1: Setup Path dan Impor Modul"
   ]
  },
  {
   "cell_type": "code",
   "execution_count": 1,
   "id": "6b9a53d2",
   "metadata": {},
   "outputs": [
    {
     "name": "stdout",
     "output_type": "stream",
     "text": [
      "Successfully imported modules!\n"
     ]
    }
   ],
   "source": [
    "import sys\n",
    "import os\n",
    "import pandas as pd\n",
    "import numpy as np\n",
    "\n",
    "# Menambahkan path ke direktori utama agar bisa mengimpor modul noventis\n",
    "module_path = os.path.abspath(os.path.join('..'))\n",
    "if module_path not in sys.path:\n",
    "    sys.path.append(module_path)\n",
    "\n",
    "# Impor kelas yang akan digunakan\n",
    "from noventis.data_cleaner import NoventisImputer\n",
    "print('Successfully imported modules!')"
   ]
  },
  {
   "cell_type": "markdown",
   "id": "7d4533ac",
   "metadata": {},
   "source": [
    "# Sel 2: Memuat Dataset"
   ]
  },
  {
   "cell_type": "code",
   "execution_count": 2,
   "id": "af970752",
   "metadata": {},
   "outputs": [],
   "source": [
    "import seaborn as sb\n",
    "df = sb.load_dataset('titanic')"
   ]
  },
  {
   "cell_type": "markdown",
   "id": "a41372c4",
   "metadata": {},
   "source": [
    "# Sel 3: Cek Nilai yang Hilang (Null Values)"
   ]
  },
  {
   "cell_type": "code",
   "execution_count": 3,
   "id": "c49cf691",
   "metadata": {},
   "outputs": [
    {
     "name": "stdout",
     "output_type": "stream",
     "text": [
      "Jumlah nilai null sebelum imputasi:\n",
      "survived         0\n",
      "pclass           0\n",
      "sex              0\n",
      "age            177\n",
      "sibsp            0\n",
      "parch            0\n",
      "fare             0\n",
      "embarked         2\n",
      "class            0\n",
      "who              0\n",
      "adult_male       0\n",
      "deck           688\n",
      "embark_town      2\n",
      "alive            0\n",
      "alone            0\n",
      "dtype: int64\n"
     ]
    }
   ],
   "source": [
    "# Tampilkan jumlah nilai null per kolom\n",
    "print(\"Jumlah nilai null sebelum imputasi:\")\n",
    "print(df.isnull().sum())"
   ]
  }
 ],
 "metadata": {
  "kernelspec": {
   "display_name": "base",
   "language": "python",
   "name": "python3"
  },
  "language_info": {
   "codemirror_mode": {
    "name": "ipython",
    "version": 3
   },
   "file_extension": ".py",
   "mimetype": "text/x-python",
   "name": "python",
   "nbconvert_exporter": "python",
   "pygments_lexer": "ipython3",
   "version": "3.12.7"
  }
 },
 "nbformat": 4,
 "nbformat_minor": 5
}
