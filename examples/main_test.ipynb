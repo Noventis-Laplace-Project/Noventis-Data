{
 "cells": [
  {
   "cell_type": "code",
   "execution_count": 1,
   "id": "4fa64bce",
   "metadata": {},
   "outputs": [
    {
     "name": "stdout",
     "output_type": "stream",
     "text": [
      "Successfully imported modules from data_cleaner!\n"
     ]
    }
   ],
   "source": [
    "import sys\n",
    "import os\n",
    "\n",
    "module_path = os.path.abspath(os.path.join('..'))\n",
    "\n",
    "if module_path not in sys.path:\n",
    "    sys.path.append(module_path)\n",
    "\n",
    "print('Successfully imported modules from data_cleaner!')"
   ]
  },
  {
   "cell_type": "code",
   "execution_count": 4,
   "id": "90ca19da",
   "metadata": {},
   "outputs": [],
   "source": [
    "from noventis import data_cleaner\n",
    "import pandas as pd"
   ]
  },
  {
   "cell_type": "code",
   "execution_count": 7,
   "id": "1e516508",
   "metadata": {},
   "outputs": [
    {
     "data": {
      "text/plain": [
       "Index(['Unnamed: 0', 'carat', 'cut', 'color', 'clarity', 'depth', 'table',\n",
       "       'price', 'x', 'y', 'z'],\n",
       "      dtype='object')"
      ]
     },
     "execution_count": 7,
     "metadata": {},
     "output_type": "execute_result"
    }
   ],
   "source": [
    "df_raw = pd.read_csv('diamonds.csv') # Atau gunakan DataFrame langsung\n",
    "df_raw.columns"
   ]
  },
  {
   "cell_type": "code",
   "execution_count": 9,
   "id": "32cdd3ff",
   "metadata": {},
   "outputs": [
    {
     "data": {
      "text/plain": [
       "Index(['Unnamed_0', 'carat', 'cut', 'color', 'clarity', 'depth', 'table',\n",
       "       'price', 'x', 'y', 'z'],\n",
       "      dtype='object')"
      ]
     },
     "execution_count": 9,
     "metadata": {},
     "output_type": "execute_result"
    }
   ],
   "source": [
    "df_raw.columns = df_raw.columns.str.replace(r'[^A-Za-z0-9_]+', '_', regex=True)\n",
    "df_raw.columns"
   ]
  },
  {
   "cell_type": "code",
   "execution_count": 12,
   "id": "0d186116",
   "metadata": {},
   "outputs": [
    {
     "data": {
      "application/vnd.microsoft.datawrangler.viewer.v0+json": {
       "columns": [
        {
         "name": "index",
         "rawType": "int64",
         "type": "integer"
        },
        {
         "name": "Unnamed_0",
         "rawType": "int64",
         "type": "integer"
        },
        {
         "name": "carat",
         "rawType": "float64",
         "type": "float"
        },
        {
         "name": "cut",
         "rawType": "object",
         "type": "string"
        },
        {
         "name": "color",
         "rawType": "object",
         "type": "string"
        },
        {
         "name": "clarity",
         "rawType": "object",
         "type": "string"
        },
        {
         "name": "depth",
         "rawType": "float64",
         "type": "float"
        },
        {
         "name": "table",
         "rawType": "float64",
         "type": "float"
        },
        {
         "name": "price",
         "rawType": "int64",
         "type": "integer"
        },
        {
         "name": "x",
         "rawType": "float64",
         "type": "float"
        },
        {
         "name": "y",
         "rawType": "float64",
         "type": "float"
        },
        {
         "name": "z",
         "rawType": "float64",
         "type": "float"
        }
       ],
       "ref": "0969a9ea-f6da-4f9a-9dc9-1a7f4122cb19",
       "rows": [
        [
         "0",
         "1",
         "0.23",
         "Ideal",
         "E",
         "SI2",
         "61.5",
         "55.0",
         "326",
         "3.95",
         "3.98",
         "2.43"
        ],
        [
         "1",
         "2",
         "0.21",
         "Premium",
         "E",
         "SI1",
         "59.8",
         "61.0",
         "326",
         "3.89",
         "3.84",
         "2.31"
        ],
        [
         "2",
         "3",
         "0.23",
         "Good",
         "E",
         "VS1",
         "56.9",
         "65.0",
         "327",
         "4.05",
         "4.07",
         "2.31"
        ],
        [
         "3",
         "4",
         "0.29",
         "Premium",
         "I",
         "VS2",
         "62.4",
         "58.0",
         "334",
         "4.2",
         "4.23",
         "2.63"
        ],
        [
         "4",
         "5",
         "0.31",
         "Good",
         "J",
         "SI2",
         "63.3",
         "58.0",
         "335",
         "4.34",
         "4.35",
         "2.75"
        ]
       ],
       "shape": {
        "columns": 11,
        "rows": 5
       }
      },
      "text/html": [
       "<div>\n",
       "<style scoped>\n",
       "    .dataframe tbody tr th:only-of-type {\n",
       "        vertical-align: middle;\n",
       "    }\n",
       "\n",
       "    .dataframe tbody tr th {\n",
       "        vertical-align: top;\n",
       "    }\n",
       "\n",
       "    .dataframe thead th {\n",
       "        text-align: right;\n",
       "    }\n",
       "</style>\n",
       "<table border=\"1\" class=\"dataframe\">\n",
       "  <thead>\n",
       "    <tr style=\"text-align: right;\">\n",
       "      <th></th>\n",
       "      <th>Unnamed_0</th>\n",
       "      <th>carat</th>\n",
       "      <th>cut</th>\n",
       "      <th>color</th>\n",
       "      <th>clarity</th>\n",
       "      <th>depth</th>\n",
       "      <th>table</th>\n",
       "      <th>price</th>\n",
       "      <th>x</th>\n",
       "      <th>y</th>\n",
       "      <th>z</th>\n",
       "    </tr>\n",
       "  </thead>\n",
       "  <tbody>\n",
       "    <tr>\n",
       "      <th>0</th>\n",
       "      <td>1</td>\n",
       "      <td>0.23</td>\n",
       "      <td>Ideal</td>\n",
       "      <td>E</td>\n",
       "      <td>SI2</td>\n",
       "      <td>61.5</td>\n",
       "      <td>55.0</td>\n",
       "      <td>326</td>\n",
       "      <td>3.95</td>\n",
       "      <td>3.98</td>\n",
       "      <td>2.43</td>\n",
       "    </tr>\n",
       "    <tr>\n",
       "      <th>1</th>\n",
       "      <td>2</td>\n",
       "      <td>0.21</td>\n",
       "      <td>Premium</td>\n",
       "      <td>E</td>\n",
       "      <td>SI1</td>\n",
       "      <td>59.8</td>\n",
       "      <td>61.0</td>\n",
       "      <td>326</td>\n",
       "      <td>3.89</td>\n",
       "      <td>3.84</td>\n",
       "      <td>2.31</td>\n",
       "    </tr>\n",
       "    <tr>\n",
       "      <th>2</th>\n",
       "      <td>3</td>\n",
       "      <td>0.23</td>\n",
       "      <td>Good</td>\n",
       "      <td>E</td>\n",
       "      <td>VS1</td>\n",
       "      <td>56.9</td>\n",
       "      <td>65.0</td>\n",
       "      <td>327</td>\n",
       "      <td>4.05</td>\n",
       "      <td>4.07</td>\n",
       "      <td>2.31</td>\n",
       "    </tr>\n",
       "    <tr>\n",
       "      <th>3</th>\n",
       "      <td>4</td>\n",
       "      <td>0.29</td>\n",
       "      <td>Premium</td>\n",
       "      <td>I</td>\n",
       "      <td>VS2</td>\n",
       "      <td>62.4</td>\n",
       "      <td>58.0</td>\n",
       "      <td>334</td>\n",
       "      <td>4.20</td>\n",
       "      <td>4.23</td>\n",
       "      <td>2.63</td>\n",
       "    </tr>\n",
       "    <tr>\n",
       "      <th>4</th>\n",
       "      <td>5</td>\n",
       "      <td>0.31</td>\n",
       "      <td>Good</td>\n",
       "      <td>J</td>\n",
       "      <td>SI2</td>\n",
       "      <td>63.3</td>\n",
       "      <td>58.0</td>\n",
       "      <td>335</td>\n",
       "      <td>4.34</td>\n",
       "      <td>4.35</td>\n",
       "      <td>2.75</td>\n",
       "    </tr>\n",
       "  </tbody>\n",
       "</table>\n",
       "</div>"
      ],
      "text/plain": [
       "   Unnamed_0  carat      cut color clarity  ...  table  price     x     y     z\n",
       "0          1   0.23    Ideal     E     SI2  ...   55.0    326  3.95  3.98  2.43\n",
       "1          2   0.21  Premium     E     SI1  ...   61.0    326  3.89  3.84  2.31\n",
       "2          3   0.23     Good     E     VS1  ...   65.0    327  4.05  4.07  2.31\n",
       "3          4   0.29  Premium     I     VS2  ...   58.0    334  4.20  4.23  2.63\n",
       "4          5   0.31     Good     J     SI2  ...   58.0    335  4.34  4.35  2.75\n",
       "\n",
       "[5 rows x 11 columns]"
      ]
     },
     "execution_count": 12,
     "metadata": {},
     "output_type": "execute_result"
    }
   ],
   "source": [
    "df_raw.head()"
   ]
  },
  {
   "cell_type": "code",
   "execution_count": 13,
   "id": "288c8268",
   "metadata": {},
   "outputs": [
    {
     "name": "stdout",
     "output_type": "stream",
     "text": [
      "Ukuran dataframe awal: (53940, 11)\n"
     ]
    }
   ],
   "source": [
    "print(\"Ukuran dataframe awal:\", df_raw.shape)"
   ]
  },
  {
   "cell_type": "code",
   "execution_count": 14,
   "id": "3571783e",
   "metadata": {},
   "outputs": [
    {
     "name": "stdout",
     "output_type": "stream",
     "text": [
      "Target column 'cut' identified.\n",
      "STARTING NOVENTIS DATA CLEANER PIPELINE\n",
      "==================================================\n",
      "\n",
      "Executing Step: IMPUTE...\n",
      "\n",
      "📋======================= IMPUTATION SUMMARY =======================📋\n",
      "Method                    | AUTO\n",
      "Total Values Imputed      | 0\n",
      "Completion Score          | 100.00%\n",
      "====================================================================\n",
      "Step IMPUTE Complete.\n",
      "\n",
      "Executing Step: OUTLIER...\n",
      "\n",
      "📋======================= OUTLIER HANDLING SUMMARY =======================📋\n",
      "Method                    | AUTO\n",
      "Total Rows Removed        | N/A\n",
      "Data Retained Score       | N/A\n",
      "========================================================================\n",
      "Step OUTLIER Complete.\n",
      "\n",
      "Executing Step: ENCODE...\n",
      "============================================================\n",
      "🚀 NOVENTIS ENCODER - ANALYSIS REPORT\n",
      "============================================================\n",
      "📊 Analyzed 2 categorical columns\n",
      "\n",
      "\n",
      "📋 ENCODING SUMMARY\n",
      "----------------------------------------\n",
      "   OHE: 2 columns\n",
      "\n",
      "📊 DETAILED COLUMN ANALYSIS\n",
      "----------------------------------------\n",
      "   color:\n",
      "      Method: OHE\n",
      "      Unique values: 7\n",
      "      Target correlation: 0.031\n",
      "      Memory impact: 2.0 MB\n",
      "\n",
      "   clarity:\n",
      "      Method: OHE\n",
      "      Unique values: 8\n",
      "      Target correlation: 0.115\n",
      "      Memory impact: 2.3 MB\n",
      "\n",
      "============================================================\n",
      "🔄 Transforming data...\n",
      "✅ Successfully transformed 0 columns\n",
      "Step ENCODE Complete.\n",
      "\n",
      "Executing Step: SCALE...\n",
      "\n",
      "📋 SCALING SUMMARY\n",
      "----------------------------------------\n",
      "   - ROBUST: 10 columns\n",
      "   - POWER: 7 columns\n",
      "   - STANDARD: 6 columns\n",
      "\n",
      "📊 DETAILED REPORT\n",
      "----------------------------------------\n",
      "  Column: Unnamed_0\n",
      "     - Method: STANDARD\n",
      "     - Reason: Default fallback\n",
      "     - Skewness: 0.03 | Outlier Ratio: 0.00%\n",
      "  Column: carat\n",
      "     - Method: STANDARD\n",
      "     - Reason: Default fallback\n",
      "     - Skewness: 0.58 | Outlier Ratio: 0.00%\n",
      "  Column: depth\n",
      "     - Method: ROBUST\n",
      "     - Reason: Outliers (ratio: 1.1%)\n",
      "     - Skewness: 0.27 | Outlier Ratio: 1.08%\n",
      "  Column: table\n",
      "     - Method: STANDARD\n",
      "     - Reason: Default fallback\n",
      "     - Skewness: 0.26 | Outlier Ratio: 0.00%\n",
      "  Column: price\n",
      "     - Method: ROBUST\n",
      "     - Reason: Outliers (ratio: 3.3%)\n",
      "     - Skewness: 1.20 | Outlier Ratio: 3.29%\n",
      "  Column: x\n",
      "     - Method: STANDARD\n",
      "     - Reason: Default fallback\n",
      "     - Skewness: 0.24 | Outlier Ratio: 0.00%\n",
      "  Column: y\n",
      "     - Method: STANDARD\n",
      "     - Reason: Default fallback\n",
      "     - Skewness: 0.24 | Outlier Ratio: 0.00%\n",
      "  Column: z\n",
      "     - Method: STANDARD\n",
      "     - Reason: Default fallback\n",
      "     - Skewness: 0.24 | Outlier Ratio: 0.00%\n",
      "  Column: color_D\n",
      "     - Method: POWER\n",
      "     - Reason: High skewness (2.19)\n",
      "     - Skewness: 2.19 | Outlier Ratio: 13.06%\n",
      "  Column: color_E\n",
      "     - Method: ROBUST\n",
      "     - Reason: Outliers (ratio: 17.8%)\n",
      "     - Skewness: 1.68 | Outlier Ratio: 17.82%\n",
      "  Column: color_F\n",
      "     - Method: ROBUST\n",
      "     - Reason: Outliers (ratio: 17.8%)\n",
      "     - Skewness: 1.68 | Outlier Ratio: 17.79%\n",
      "  Column: color_G\n",
      "     - Method: ROBUST\n",
      "     - Reason: Outliers (ratio: 22.4%)\n",
      "     - Skewness: 1.32 | Outlier Ratio: 22.42%\n",
      "  Column: color_H\n",
      "     - Method: ROBUST\n",
      "     - Reason: Outliers (ratio: 15.1%)\n",
      "     - Skewness: 1.95 | Outlier Ratio: 15.07%\n",
      "  Column: color_I\n",
      "     - Method: POWER\n",
      "     - Reason: High skewness (2.85)\n",
      "     - Skewness: 2.85 | Outlier Ratio: 9.08%\n",
      "  Column: color_J\n",
      "     - Method: POWER\n",
      "     - Reason: High skewness (4.25)\n",
      "     - Skewness: 4.25 | Outlier Ratio: 4.76%\n",
      "  Column: clarity_I1\n",
      "     - Method: POWER\n",
      "     - Reason: High skewness (11.66)\n",
      "     - Skewness: 11.66 | Outlier Ratio: 0.72%\n",
      "  Column: clarity_IF\n",
      "     - Method: POWER\n",
      "     - Reason: High skewness (4.85)\n",
      "     - Skewness: 4.85 | Outlier Ratio: 3.77%\n",
      "  Column: clarity_SI1\n",
      "     - Method: ROBUST\n",
      "     - Reason: Outliers (ratio: 23.9%)\n",
      "     - Skewness: 1.22 | Outlier Ratio: 23.93%\n",
      "  Column: clarity_SI2\n",
      "     - Method: ROBUST\n",
      "     - Reason: Outliers (ratio: 15.0%)\n",
      "     - Skewness: 1.96 | Outlier Ratio: 15.05%\n",
      "  Column: clarity_VS1\n",
      "     - Method: ROBUST\n",
      "     - Reason: Outliers (ratio: 15.8%)\n",
      "     - Skewness: 1.88 | Outlier Ratio: 15.77%\n",
      "  Column: clarity_VS2\n",
      "     - Method: ROBUST\n",
      "     - Reason: Outliers (ratio: 24.3%)\n",
      "     - Skewness: 1.20 | Outlier Ratio: 24.27%\n",
      "  Column: clarity_VVS1\n",
      "     - Method: POWER\n",
      "     - Reason: High skewness (3.36)\n",
      "     - Skewness: 3.36 | Outlier Ratio: 7.04%\n",
      "  Column: clarity_VVS2\n",
      "     - Method: POWER\n",
      "     - Reason: High skewness (2.77)\n",
      "     - Skewness: 2.77 | Outlier Ratio: 9.44%\n",
      "============================================================\n",
      "Step SCALE Complete.\n",
      "\n",
      "PIPELINE FINISHED\n",
      "==================================================\n",
      "\n",
      "====================== DATA QUALITY REPORT ======================\n",
      "  Final Quality Score: 51.67/100\n",
      "     - Completeness Score                 : 100.00     (Weight: 40%)\n",
      "     - Data Consistency Score             : 0.00       (Weight: 0%)\n",
      "     - Distribution Quality Score         : 58.37      (Weight: 20%)\n",
      "     - Dimensionality Efficiency Score    : 0.00       (Weight: 10%)\n",
      "\n",
      "--- PIPELINE PROCESS SUMMARY ---\n",
      "  - Imputation: Successfully filled 0 missing values.\n",
      "  - Outliers: Removed 16030 rows identified as outliers.\n",
      "  - Encoding: Transformed 2 categorical columns into 15 new features.\n",
      "  - Scaling: Standardized the scale for 23 numerical columns.\n",
      "\n",
      "=================================================================\n"
     ]
    }
   ],
   "source": [
    "df = data_cleaner(\n",
    "        data=df_raw,\n",
    "        target_column='cut'\n",
    ")"
   ]
  },
  {
   "cell_type": "code",
   "execution_count": 15,
   "id": "7c4dc8b6",
   "metadata": {},
   "outputs": [
    {
     "data": {
      "text/plain": [
       "(37910, 23)"
      ]
     },
     "execution_count": 15,
     "metadata": {},
     "output_type": "execute_result"
    }
   ],
   "source": [
    "df.shape"
   ]
  }
 ],
 "metadata": {
  "kernelspec": {
   "display_name": "venv",
   "language": "python",
   "name": "python3"
  },
  "language_info": {
   "codemirror_mode": {
    "name": "ipython",
    "version": 3
   },
   "file_extension": ".py",
   "mimetype": "text/x-python",
   "name": "python",
   "nbconvert_exporter": "python",
   "pygments_lexer": "ipython3",
   "version": "3.13.5"
  }
 },
 "nbformat": 4,
 "nbformat_minor": 5
}
