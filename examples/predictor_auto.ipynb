{
 "cells": [
  {
   "cell_type": "code",
   "execution_count": 1,
   "id": "a6c551bc",
   "metadata": {},
   "outputs": [
    {
     "name": "stderr",
     "output_type": "stream",
     "text": [
      "/home/ahmadnafim/.conda/envs/noventis/lib/python3.10/site-packages/tqdm/auto.py:21: TqdmWarning: IProgress not found. Please update jupyter and ipywidgets. See https://ipywidgets.readthedocs.io/en/stable/user_install.html\n",
      "  from .autonotebook import tqdm as notebook_tqdm\n"
     ]
    }
   ],
   "source": [
    "import pandas as pd\n",
    "import os, sys\n",
    "from sklearn.datasets import make_regression\n",
    "\n",
    "module_path = os.path.abspath(os.path.join('..'))\n",
    "if module_path not in sys.path:\n",
    "    sys.path.append(module_path)\n",
    "\n",
    "from noventis.predictor import NoventisAutoML"
   ]
  },
  {
   "cell_type": "code",
   "execution_count": 2,
   "id": "74733074",
   "metadata": {},
   "outputs": [
    {
     "name": "stdout",
     "output_type": "stream",
     "text": [
      "✅ File 'dummy_classification_churn.csv' berhasil dibuat.\n",
      "✅ File 'dummy_regression_house_price.csv' berhasil dibuat.\n"
     ]
    }
   ],
   "source": [
    "import pandas as pd\n",
    "from sklearn.datasets import make_classification, make_regression\n",
    "\n",
    "# 1. Membuat Data untuk Klasifikasi (Prediksi Churn Pelanggan)\n",
    "X_class, y_class = make_classification(\n",
    "    n_samples=500,\n",
    "    n_features=15,\n",
    "    n_informative=5,\n",
    "    n_redundant=2,\n",
    "    n_classes=2,\n",
    "    flip_y=0.05,\n",
    "    random_state=42\n",
    ")\n",
    "df_class = pd.DataFrame(X_class, columns=[f'feature_{i}' for i in range(15)])\n",
    "df_class['churn'] = y_class\n",
    "df_class.to_csv('dummy_classification_churn.csv', index=False)\n",
    "print(\"✅ File 'dummy_classification_churn.csv' berhasil dibuat.\")\n",
    "\n",
    "\n",
    "# 2. Membuat Data untuk Regresi (Prediksi Harga Rumah)\n",
    "X_reg, y_reg = make_regression(\n",
    "    n_samples=300,\n",
    "    n_features=10,\n",
    "    n_informative=6,\n",
    "    noise=15,\n",
    "    random_state=42\n",
    ")\n",
    "df_reg = pd.DataFrame(X_reg, columns=[f'attr_{i}' for i in range(10)])\n",
    "df_reg['house_price'] = y_reg\n",
    "df_reg.to_csv('dummy_regression_house_price.csv', index=False)\n",
    "print(\"✅ File 'dummy_regression_house_price.csv' berhasil dibuat.\")"
   ]
  },
  {
   "cell_type": "code",
   "execution_count": 3,
   "id": "eb19ac1d",
   "metadata": {},
   "outputs": [
    {
     "name": "stdout",
     "output_type": "stream",
     "text": [
      "✅ Data berhasil dimuat dari file: dummy_classification_churn.csv\n",
      "📊 Shape data: (500, 16)\n",
      "📋 Kolom: ['feature_0', 'feature_1', 'feature_2', 'feature_3', 'feature_4', 'feature_5', 'feature_6', 'feature_7', 'feature_8', 'feature_9', 'feature_10', 'feature_11', 'feature_12', 'feature_13', 'feature_14', 'churn']\n",
      "✅ Tipe tugas terdeteksi: classification\n",
      "✅ Data berhasil dibagi: Train=400, Test=100\n",
      "📈 Target distribution: {0: np.int64(254), 1: np.int64(246)}\n",
      "🚀 Memulai proses AutoML dengan FLAML...\n",
      "⏳ Melatih model (Metrik: macro_f1, Waktu: 60s)...\n"
     ]
    },
    {
     "name": "stderr",
     "output_type": "stream",
     "text": [
      "INFO:flaml.tune.searcher.blendsearch:No low-cost partial config given to the search algorithm. For cost-frugal search, consider providing low-cost values for cost-related hps via 'low_cost_partial_config'. More info can be found at https://microsoft.github.io/FLAML/docs/FAQ#about-low_cost_partial_config-in-tune\n",
      "INFO:root:Running internal preprocessor to handle data types and missing values...\n",
      "INFO:root:✅ Internal preprocessing complete. All data is now numeric.\n",
      "INFO:root:--- Processing model: LOGISTIC_REGRESSION ---\n",
      "INFO:root:Training finished in 0.02 seconds.\n",
      "INFO:root:--- Processing model: RANDOM_FOREST ---\n"
     ]
    },
    {
     "name": "stdout",
     "output_type": "stream",
     "text": [
      "\n",
      "🔍 Memulai perbandingan dengan model lain...\n"
     ]
    },
    {
     "name": "stderr",
     "output_type": "stream",
     "text": [
      "INFO:root:Training finished in 0.46 seconds.\n",
      "INFO:root:--- Processing model: XGBOOST ---\n",
      "INFO:root:Training finished in 0.34 seconds.\n",
      "INFO:root:--- Processing model: DECISION_TREE ---\n",
      "INFO:root:Training finished in 0.02 seconds.\n",
      "INFO:root:--- Processing model: LIGHTGBM ---\n",
      "INFO:root:Training finished in 0.37 seconds.\n",
      "INFO:root:--- Processing model: CATBOOST ---\n",
      "INFO:root:Training finished in 3.85 seconds.\n",
      "INFO:root:--- Processing model: GRADIENT_BOOSTING ---\n",
      "INFO:root:Training finished in 1.00 seconds.\n",
      "INFO:root:\n",
      "--- Process Complete ---\n",
      "INFO:root:🏆 Best Model: LIGHTGBM with f1_score = 0.9400\n",
      "INFO:root:Saving model 'lightgbm' to Noventis_Results/best_model.pkl...\n",
      "INFO:root:✅ Model saved successfully.\n"
     ]
    },
    {
     "name": "stdout",
     "output_type": "stream",
     "text": [
      "📄 Comparison report disimpan di: Noventis_Results/model_comparison_report.txt\n",
      "📊 Hasil perbandingan model disimpan di direktori 'Noventis_Results'.\n",
      "METRICS = f1_score\n"
     ]
    },
    {
     "ename": "KeyError",
     "evalue": "'Lightgbm'",
     "output_type": "error",
     "traceback": [
      "\u001b[0;31m---------------------------------------------------------------------------\u001b[0m",
      "\u001b[0;31mKeyError\u001b[0m                                  Traceback (most recent call last)",
      "Cell \u001b[0;32mIn[3], line 7\u001b[0m\n\u001b[1;32m      1\u001b[0m automl_classifier \u001b[38;5;241m=\u001b[39m NoventisAutoML(\n\u001b[1;32m      2\u001b[0m     data\u001b[38;5;241m=\u001b[39m\u001b[38;5;124m'\u001b[39m\u001b[38;5;124mdummy_classification_churn.csv\u001b[39m\u001b[38;5;124m'\u001b[39m,\n\u001b[1;32m      3\u001b[0m     target\u001b[38;5;241m=\u001b[39m\u001b[38;5;124m'\u001b[39m\u001b[38;5;124mchurn\u001b[39m\u001b[38;5;124m'\u001b[39m,\n\u001b[1;32m      4\u001b[0m     time_budget\u001b[38;5;241m=\u001b[39m\u001b[38;5;241m30\u001b[39m  \u001b[38;5;66;03m#\u001b[39;00m\n\u001b[1;32m      5\u001b[0m )\n\u001b[0;32m----> 7\u001b[0m results_class \u001b[38;5;241m=\u001b[39m \u001b[43mautoml_classifier\u001b[49m\u001b[38;5;241;43m.\u001b[39;49m\u001b[43mfit\u001b[49m\u001b[43m(\u001b[49m\u001b[43m)\u001b[49m\n",
      "File \u001b[0;32m~/BCC/LaplaceProject/Noventis-Data/noventis/predictor/auto.py:276\u001b[0m, in \u001b[0;36mNoventisAutoML.fit\u001b[0;34m(self, time_budget, metric)\u001b[0m\n\u001b[1;32m    274\u001b[0m \u001b[38;5;28;01mif\u001b[39;00m best_manual_model_metrics \u001b[38;5;241m>\u001b[39m automl_metrics:\n\u001b[1;32m    275\u001b[0m     \u001b[38;5;28mself\u001b[39m\u001b[38;5;241m.\u001b[39mmanual_model\u001b[38;5;241m.\u001b[39msave_model(\u001b[38;5;124mf\u001b[39m\u001b[38;5;124m'\u001b[39m\u001b[38;5;132;01m{\u001b[39;00m\u001b[38;5;28mself\u001b[39m\u001b[38;5;241m.\u001b[39moutput_dir\u001b[38;5;132;01m}\u001b[39;00m\u001b[38;5;124m/best_model.pkl\u001b[39m\u001b[38;5;124m'\u001b[39m)\n\u001b[0;32m--> 276\u001b[0m     \u001b[38;5;28;43mself\u001b[39;49m\u001b[38;5;241;43m.\u001b[39;49m\u001b[43mresults\u001b[49m\u001b[43m[\u001b[49m\u001b[43mbest_manual_model_name\u001b[49m\u001b[43m]\u001b[49m[\u001b[38;5;124m'\u001b[39m\u001b[38;5;124mmodel_path\u001b[39m\u001b[38;5;124m'\u001b[39m] \u001b[38;5;241m=\u001b[39m model_path\n\u001b[1;32m    278\u001b[0m \u001b[38;5;28;01melse\u001b[39;00m:\n\u001b[1;32m    279\u001b[0m     \u001b[38;5;28mself\u001b[39m\u001b[38;5;241m.\u001b[39m_save_model(\u001b[38;5;28mself\u001b[39m\u001b[38;5;241m.\u001b[39mflaml_model, model_path)\n",
      "\u001b[0;31mKeyError\u001b[0m: 'Lightgbm'"
     ]
    }
   ],
   "source": [
    "automl_classifier = NoventisAutoML(\n",
    "    data='dummy_classification_churn.csv',\n",
    "    target='churn',\n",
    "    time_budget=30  #\n",
    ")\n",
    "\n",
    "results_class = automl_classifier.fit()"
   ]
  },
  {
   "cell_type": "code",
   "execution_count": null,
   "id": "d78f7499",
   "metadata": {},
   "outputs": [
    {
     "name": "stderr",
     "output_type": "stream",
     "text": [
      "INFO:root:Running internal preprocessor to handle data types and missing values...\n",
      "INFO:root:✅ Internal preprocessing complete. All data is now numeric.\n",
      "INFO:root:--- Processing model: LGBM ---\n",
      "ERROR:root:Failed to process model lgbm: Model 'lgbm' is not recognized for task 'regression'.\n",
      "INFO:root:--- Processing model: RF ---\n"
     ]
    },
    {
     "name": "stderr",
     "output_type": "stream",
     "text": [
      "ERROR:root:Failed to process model rf: Model 'rf' is not recognized for task 'regression'.\n"
     ]
    },
    {
     "name": "stdout",
     "output_type": "stream",
     "text": [
      "✅ Data berhasil dimuat dari file: dummy_regression_house_price.csv\n",
      "📊 Shape data: (300, 11)\n",
      "📋 Kolom: ['attr_0', 'attr_1', 'attr_2', 'attr_3', 'attr_4', 'attr_5', 'attr_6', 'attr_7', 'attr_8', 'attr_9', 'house_price']\n",
      "✅ Tipe tugas terdeteksi: regression\n",
      "✅ Data berhasil dibagi: Train=240, Test=60\n",
      "📈 Target distribution: Range: -477.78 - 515.23\n",
      "🚀 Memulai proses AutoML dengan FLAML...\n"
     ]
    },
    {
     "ename": "RuntimeError",
     "evalue": "No models were trained successfully. Please check your data or configuration.",
     "output_type": "error",
     "traceback": [
      "\u001b[0;31m---------------------------------------------------------------------------\u001b[0m",
      "\u001b[0;31mRuntimeError\u001b[0m                              Traceback (most recent call last)",
      "Cell \u001b[0;32mIn[6], line 9\u001b[0m\n\u001b[1;32m      1\u001b[0m manual_regressor \u001b[38;5;241m=\u001b[39m NoventisAutoML(\n\u001b[1;32m      2\u001b[0m     data\u001b[38;5;241m=\u001b[39m\u001b[38;5;124m'\u001b[39m\u001b[38;5;124mdummy_regression_house_price.csv\u001b[39m\u001b[38;5;124m'\u001b[39m,\n\u001b[1;32m      3\u001b[0m     target\u001b[38;5;241m=\u001b[39m\u001b[38;5;124m'\u001b[39m\u001b[38;5;124mhouse_price\u001b[39m\u001b[38;5;124m'\u001b[39m,\n\u001b[0;32m   (...)\u001b[0m\n\u001b[1;32m      6\u001b[0m     explain\u001b[38;5;241m=\u001b[39m\u001b[38;5;28;01mTrue\u001b[39;00m\n\u001b[1;32m      7\u001b[0m )\n\u001b[0;32m----> 9\u001b[0m results_reg \u001b[38;5;241m=\u001b[39m \u001b[43mmanual_regressor\u001b[49m\u001b[38;5;241;43m.\u001b[39;49m\u001b[43mfit\u001b[49m\u001b[43m(\u001b[49m\u001b[43m)\u001b[49m\n\u001b[1;32m     11\u001b[0m \u001b[38;5;28mprint\u001b[39m(\u001b[38;5;124m\"\u001b[39m\u001b[38;5;130;01m\\n\u001b[39;00m\u001b[38;5;124m🏆 Proses Regresi Manual Selesai!\u001b[39m\u001b[38;5;124m\"\u001b[39m)\n",
      "File \u001b[0;32m~/BCC/LaplaceProject/Noventis-Data/noventis/predictor/auto.py:228\u001b[0m, in \u001b[0;36mNoventisAutoML.fit\u001b[0;34m(self, time_budget, metric)\u001b[0m\n\u001b[1;32m    222\u001b[0m \u001b[38;5;28;01melse\u001b[39;00m:\n\u001b[1;32m    223\u001b[0m     predictor \u001b[38;5;241m=\u001b[39m ManualPredictor(\n\u001b[1;32m    224\u001b[0m         model_name\u001b[38;5;241m=\u001b[39m\u001b[38;5;28mself\u001b[39m\u001b[38;5;241m.\u001b[39mmodel_list, \n\u001b[1;32m    225\u001b[0m         task\u001b[38;5;241m=\u001b[39m\u001b[38;5;28mself\u001b[39m\u001b[38;5;241m.\u001b[39mtask_type, \n\u001b[1;32m    226\u001b[0m         random_state\u001b[38;5;241m=\u001b[39m\u001b[38;5;28mself\u001b[39m\u001b[38;5;241m.\u001b[39mrandom_state\n\u001b[1;32m    227\u001b[0m     )\n\u001b[0;32m--> 228\u001b[0m     result \u001b[38;5;241m=\u001b[39m \u001b[43mpredictor\u001b[49m\u001b[38;5;241;43m.\u001b[39;49m\u001b[43mrun_pipeline\u001b[49m\u001b[43m(\u001b[49m\n\u001b[1;32m    229\u001b[0m \u001b[43m        \u001b[49m\u001b[38;5;28;43mself\u001b[39;49m\u001b[38;5;241;43m.\u001b[39;49m\u001b[43mdf\u001b[49m\u001b[43m,\u001b[49m\u001b[43m \u001b[49m\n\u001b[1;32m    230\u001b[0m \u001b[43m        \u001b[49m\u001b[43mtarget_column\u001b[49m\u001b[38;5;241;43m=\u001b[39;49m\u001b[38;5;28;43mself\u001b[39;49m\u001b[38;5;241;43m.\u001b[39;49m\u001b[43mtarget_column\u001b[49m\u001b[43m,\u001b[49m\u001b[43m \u001b[49m\n\u001b[1;32m    231\u001b[0m \u001b[43m        \u001b[49m\u001b[43mtest_size\u001b[49m\u001b[38;5;241;43m=\u001b[39;49m\u001b[38;5;28;43mself\u001b[39;49m\u001b[38;5;241;43m.\u001b[39;49m\u001b[43mtest_size\u001b[49m\n\u001b[1;32m    232\u001b[0m \u001b[43m    \u001b[49m\u001b[43m)\u001b[49m\n\u001b[1;32m    233\u001b[0m     \u001b[38;5;28mself\u001b[39m\u001b[38;5;241m.\u001b[39mmanual_model \u001b[38;5;241m=\u001b[39m predictor\n\u001b[1;32m    235\u001b[0m     all_model_results \u001b[38;5;241m=\u001b[39m result[\u001b[38;5;124m'\u001b[39m\u001b[38;5;124mall_model_results\u001b[39m\u001b[38;5;124m'\u001b[39m]\n",
      "File \u001b[0;32m~/BCC/LaplaceProject/Noventis-Data/noventis/predictor/manual.py:564\u001b[0m, in \u001b[0;36mManualPredictor.run_pipeline\u001b[0;34m(self, df, target_column, test_size, compare, explain, chosen_metric, display_report)\u001b[0m\n\u001b[1;32m    562\u001b[0m successful_results \u001b[38;5;241m=\u001b[39m [res \u001b[38;5;28;01mfor\u001b[39;00m res \u001b[38;5;129;01min\u001b[39;00m \u001b[38;5;28mself\u001b[39m\u001b[38;5;241m.\u001b[39mall_results \u001b[38;5;28;01mif\u001b[39;00m \u001b[38;5;124m'\u001b[39m\u001b[38;5;124merror\u001b[39m\u001b[38;5;124m'\u001b[39m \u001b[38;5;129;01mnot\u001b[39;00m \u001b[38;5;129;01min\u001b[39;00m res]\n\u001b[1;32m    563\u001b[0m \u001b[38;5;28;01mif\u001b[39;00m \u001b[38;5;129;01mnot\u001b[39;00m successful_results:\n\u001b[0;32m--> 564\u001b[0m     \u001b[38;5;28;01mraise\u001b[39;00m \u001b[38;5;167;01mRuntimeError\u001b[39;00m(\u001b[38;5;124m\"\u001b[39m\u001b[38;5;124mNo models were trained successfully. Please check your data or configuration.\u001b[39m\u001b[38;5;124m\"\u001b[39m)\n\u001b[1;32m    566\u001b[0m primary_metric \u001b[38;5;241m=\u001b[39m \u001b[38;5;124m'\u001b[39m\u001b[38;5;124mf1_score\u001b[39m\u001b[38;5;124m'\u001b[39m \u001b[38;5;28;01mif\u001b[39;00m \u001b[38;5;28mself\u001b[39m\u001b[38;5;241m.\u001b[39mtask \u001b[38;5;241m==\u001b[39m \u001b[38;5;124m'\u001b[39m\u001b[38;5;124mclassification\u001b[39m\u001b[38;5;124m'\u001b[39m \u001b[38;5;28;01melse\u001b[39;00m \u001b[38;5;124m'\u001b[39m\u001b[38;5;124mr2_score\u001b[39m\u001b[38;5;124m'\u001b[39m\n\u001b[1;32m    567\u001b[0m \u001b[38;5;28mself\u001b[39m\u001b[38;5;241m.\u001b[39mbest_model_info \u001b[38;5;241m=\u001b[39m \u001b[38;5;28mmax\u001b[39m(successful_results, key\u001b[38;5;241m=\u001b[39m\u001b[38;5;28;01mlambda\u001b[39;00m x: x[\u001b[38;5;124m'\u001b[39m\u001b[38;5;124mmetrics\u001b[39m\u001b[38;5;124m'\u001b[39m]\u001b[38;5;241m.\u001b[39mget(primary_metric, \u001b[38;5;241m-\u001b[39m\u001b[38;5;241m1\u001b[39m))\n",
      "\u001b[0;31mRuntimeError\u001b[0m: No models were trained successfully. Please check your data or configuration."
     ]
    }
   ],
   "source": [
    "manual_regressor = NoventisAutoML(\n",
    "    data='dummy_regression_house_price.csv',\n",
    "    target='house_price',\n",
    "    models=['lightgbm', 'rf'], \n",
    "    compare=False,         \n",
    "    explain=True\n",
    ")\n",
    "\n",
    "results_reg = manual_regressor.fit()\n",
    "\n",
    "print(\"\\n🏆 Proses Regresi Manual Selesai!\")"
   ]
  },
  {
   "cell_type": "code",
   "execution_count": null,
   "id": "24542786",
   "metadata": {},
   "outputs": [],
   "source": [
    "display(result_reg)"
   ]
  },
  {
   "cell_type": "code",
   "execution_count": 21,
   "id": "77bf0fc5",
   "metadata": {},
   "outputs": [],
   "source": [
    "# import pandas as pd\n",
    "# import numpy as np\n",
    "\n",
    "# new_customers = pd.DataFrame(\n",
    "#     np.random.rand(5, 15), \n",
    "#     columns=[f'feature_{i}' for i in range(15)]\n",
    "# )\n",
    "\n",
    "# predictor = NoventisAutoML(data='dummy_classification_churn.csv', target='churn')\n",
    "# best_model = predictor.load_model('/home/ahmadnafim/BCC/LaplaceProject/Noventis-Data/examples/noventis_result_automl+givenModels/best_model.pkl')\n",
    "\n",
    "# if best_model:\n",
    "#     predictions = best_model.predict(new_customers)\n",
    "#     print(\"\\nHasil Prediksi Churn untuk Customer Baru:\")\n",
    "#     print(predictions)"
   ]
  },
  {
   "cell_type": "code",
   "execution_count": 22,
   "id": "bf24e976",
   "metadata": {},
   "outputs": [
    {
     "name": "stdout",
     "output_type": "stream",
     "text": [
      "✅ Data berhasil dimuat dari file: dummy_classification_churn.csv\n",
      "📊 Shape data: (500, 16)\n",
      "📋 Kolom: ['feature_0', 'feature_1', 'feature_2', 'feature_3', 'feature_4', 'feature_5', 'feature_6', 'feature_7', 'feature_8', 'feature_9', 'feature_10', 'feature_11', 'feature_12', 'feature_13', 'feature_14', 'churn']\n",
      "✅ Data berhasil dibagi: Train=375, Test=125\n",
      "📈 Target distribution: {0: np.int64(254), 1: np.int64(246)}\n",
      "🚀 Memulai proses AutoML dengan FLAML...\n",
      "⏳ Melatih model (Metrik: accuracy, Waktu: 60s)...\n"
     ]
    },
    {
     "name": "stderr",
     "output_type": "stream",
     "text": [
      "INFO:flaml.tune.searcher.blendsearch:No low-cost partial config given to the search algorithm. For cost-frugal search, consider providing low-cost values for cost-related hps via 'low_cost_partial_config'. More info can be found at https://microsoft.github.io/FLAML/docs/FAQ#about-low_cost_partial_config-in-tune\n",
      "INFO:root:--- Memproses model: LGBM ---\n",
      "ERROR:root:Gagal memproses model lgbm: Model 'lgbm' tidak dikenali untuk task 'classification'.\n",
      "INFO:root:--- Memproses model: XGBOOST ---\n"
     ]
    },
    {
     "name": "stdout",
     "output_type": "stream",
     "text": [
      "💾 Model berhasil disimpan di: Full_Run_Churn_Analysis/best_automl_model.pkl\n",
      "\n",
      "🔍 Memulai perbandingan dengan model lain...\n"
     ]
    },
    {
     "name": "stderr",
     "output_type": "stream",
     "text": [
      "INFO:root:✅ Selesai: XGBOOST | Metrik utama: 0.8877\n",
      "INFO:root:--- Memproses model: RF ---\n",
      "ERROR:root:Gagal memproses model rf: Model 'rf' tidak dikenali untuk task 'classification'.\n",
      "INFO:root:\n",
      "--- Proses Selesai ---\n",
      "INFO:root:🏆 Model Terbaik: XGBOOST dengan f1_score = 0.8877\n"
     ]
    },
    {
     "name": "stdout",
     "output_type": "stream",
     "text": [
      "⚠️  Peringatan: Melewati model 'lgbm' karena gagal saat training.\n",
      "⚠️  Peringatan: Melewati model 'rf' karena gagal saat training.\n"
     ]
    },
    {
     "name": "stderr",
     "output_type": "stream",
     "text": [
      "INFO:root:Menyimpan pipeline lengkap 'xgboost' ke Full_Run_Churn_Analysis/best_model_without_automl.pkl...\n",
      "INFO:root:✅ Pipeline berhasil disimpan.\n"
     ]
    },
    {
     "name": "stdout",
     "output_type": "stream",
     "text": [
      "📄 Comparison report disimpan di: Full_Run_Churn_Analysis/model_comparison_report.txt\n",
      "📊 Hasil perbandingan model disimpan di direktori 'Full_Run_Churn_Analysis'.\n",
      "\n",
      "🎉 Proses AutoML Selesai!\n",
      "📊 Membuat visualisasi...\n",
      "⚠️ Error saat membuat visualisasi: 'feature_importance'\n",
      "⚠️ Error saat membuat summary: string indices must be integers\n",
      "📊 Visualisasi berhasil dibuat dan disimpan di direktori 'Full_Run_Churn_Analysis'!\n"
     ]
    }
   ],
   "source": [
    "comprehensive_run = NoventisAutoML(\n",
    "    # --- Parameter Data & Tugas ---\n",
    "    data='dummy_classification_churn.csv',  # Menggunakan data churn pelanggan\n",
    "    target='churn',                          # Kolom target yang akan diprediksi\n",
    "    task='classification',                   # Menetapkan tugas secara eksplisit\n",
    "\n",
    "    # --- Parameter Kontrol Model & Perbandingan ---\n",
    "    models=['lgbm', 'xgboost', 'rf'],        # Model manual yang akan jadi pembanding\n",
    "    compare=True,                            # WAJIB True untuk membandingkan AutoML vs. `models`\n",
    "    metrics='accuracy',                      # Metrik utama untuk menentukan model terbaik\n",
    "    time_budget=60,                          # Batas waktu 60 detik untuk pencarian AutoML\n",
    "\n",
    "    # --- Parameter Konfigurasi Output & Proses ---\n",
    "    output_dir='Full_Run_Churn_Analysis',    # Menyimpan semua hasil di folder khusus\n",
    "    explain=True,                            # Membuat semua plot dan laporan secara otomatis\n",
    "    test_size=0.25,                          # Menggunakan 25% data untuk testing\n",
    "    random_state=123                         # Menggunakan seed agar hasil bisa direproduksi\n",
    ")\n",
    "\n",
    "# Menjalankan seluruh pipeline\n",
    "results = comprehensive_run.fit()"
   ]
  },
  {
   "cell_type": "code",
   "execution_count": null,
   "id": "d0d66d2f",
   "metadata": {},
   "outputs": [],
   "source": []
  }
 ],
 "metadata": {
  "language_info": {
   "name": "python"
  }
 },
 "nbformat": 4,
 "nbformat_minor": 5
}
