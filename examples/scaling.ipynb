{
 "cells": [
  {
   "cell_type": "code",
   "execution_count": null,
   "id": "2f97576b",
   "metadata": {},
   "outputs": [],
   "source": [
    "from noventis.data_cleaner import NoventisScaler"
   ]
  },
  {
   "cell_type": "code",
   "execution_count": null,
   "id": "b40a898c",
   "metadata": {},
   "outputs": [],
   "source": []
  }
 ],
 "metadata": {
  "kernelspec": {
   "display_name": "noventis",
   "language": "python",
   "name": "python3"
  },
  "language_info": {
   "name": "python",
   "version": "3.10.18"
  }
 },
 "nbformat": 4,
 "nbformat_minor": 5
}
