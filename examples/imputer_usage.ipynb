{
 "cells": [
  {
   "cell_type": "markdown",
   "id": "1597a0e0",
   "metadata": {},
   "source": [
    "# Setup Path dan Impor Modul"
   ]
  },
  {
   "cell_type": "code",
   "execution_count": 1,
   "id": "6b9a53d2",
   "metadata": {},
   "outputs": [
    {
     "name": "stdout",
     "output_type": "stream",
     "text": [
      "Successfully imported modules!\n"
     ]
    }
   ],
   "source": [
    "import sys\n",
    "import os\n",
    "import pandas as pd\n",
    "import numpy as np\n",
    "\n",
    "# Menambahkan path ke direktori utama agar bisa mengimpor modul noventis\n",
    "module_path = os.path.abspath(os.path.join('..'))\n",
    "if module_path not in sys.path:\n",
    "    sys.path.append(module_path)\n",
    "\n",
    "# Impor kelas yang akan digunakan\n",
    "from noventis.data_cleaner import NoventisImputer\n",
    "print('Successfully imported modules!')"
   ]
  },
  {
   "cell_type": "markdown",
   "id": "7d4533ac",
   "metadata": {},
   "source": [
    "# Memuat Dataset"
   ]
  },
  {
   "cell_type": "code",
   "execution_count": 2,
   "id": "af970752",
   "metadata": {},
   "outputs": [
    {
     "name": "stdout",
     "output_type": "stream",
     "text": [
      "Dataset Ames Housing berhasil dimuat.\n"
     ]
    }
   ],
   "source": [
    "try:\n",
    "    df_ames = pd.read_csv('../dataset_for_examples/AmesHousing.csv')\n",
    "    print(\"Dataset Ames Housing berhasil dimuat.\")\n",
    "except FileNotFoundError:\n",
    "    print(\"Error: Pastikan file 'AmesHousing.csv' dari dataset Ames Housing ada di direktori yang sama dengan notebook Anda.\")"
   ]
  },
  {
   "cell_type": "markdown",
   "id": "a41372c4",
   "metadata": {},
   "source": [
    "# Cek Nilai yang Hilang (Null Values)"
   ]
  },
  {
   "cell_type": "code",
   "execution_count": 3,
   "id": "c49cf691",
   "metadata": {},
   "outputs": [
    {
     "name": "stdout",
     "output_type": "stream",
     "text": [
      "Analisis Awal: 15 kolom dengan nilai hilang terbanyak\n",
      "Pool QC           2917\n",
      "Misc Feature      2824\n",
      "Alley             2732\n",
      "Fence             2358\n",
      "Mas Vnr Type      1775\n",
      "Fireplace Qu      1422\n",
      "Lot Frontage       490\n",
      "Garage Cond        159\n",
      "Garage Qual        159\n",
      "Garage Finish      159\n",
      "Garage Yr Blt      159\n",
      "Garage Type        157\n",
      "Bsmt Exposure       83\n",
      "BsmtFin Type 2      81\n",
      "Bsmt Cond           80\n",
      "dtype: int64\n"
     ]
    }
   ],
   "source": [
    "# --- Sel 3: Cek Nilai yang Hilang (Null Values) ---\n",
    "print(\"Analisis Awal: 15 kolom dengan nilai hilang terbanyak\")\n",
    "null_counts = df_ames.isnull().sum()\n",
    "print(null_counts[null_counts > 0].sort_values(ascending=False).head(15))"
   ]
  },
  {
   "cell_type": "markdown",
   "id": "6dd9bd4a",
   "metadata": {},
   "source": [
    "# Contoh 1 - Menggunakan Mode Otomatis"
   ]
  },
  {
   "cell_type": "code",
   "execution_count": 4,
   "id": "ba5119ed",
   "metadata": {},
   "outputs": [
    {
     "name": "stdout",
     "output_type": "stream",
     "text": [
      "--- Menjalankan Imputer dengan Mode Otomatis ---\n",
      "\n",
      "Total nilai null setelah proses: 0\n",
      "Contoh kolom 'LotFrontage' (diisi dengan rata-rata):\n"
     ]
    },
    {
     "data": {
      "text/html": [
       "<div>\n",
       "<style scoped>\n",
       "    .dataframe tbody tr th:only-of-type {\n",
       "        vertical-align: middle;\n",
       "    }\n",
       "\n",
       "    .dataframe tbody tr th {\n",
       "        vertical-align: top;\n",
       "    }\n",
       "\n",
       "    .dataframe thead th {\n",
       "        text-align: right;\n",
       "    }\n",
       "</style>\n",
       "<table border=\"1\" class=\"dataframe\">\n",
       "  <thead>\n",
       "    <tr style=\"text-align: right;\">\n",
       "      <th></th>\n",
       "      <th>Lot Frontage</th>\n",
       "    </tr>\n",
       "  </thead>\n",
       "  <tbody>\n",
       "    <tr>\n",
       "      <th>11</th>\n",
       "      <td>69.0</td>\n",
       "    </tr>\n",
       "    <tr>\n",
       "      <th>14</th>\n",
       "      <td>69.0</td>\n",
       "    </tr>\n",
       "    <tr>\n",
       "      <th>22</th>\n",
       "      <td>69.0</td>\n",
       "    </tr>\n",
       "    <tr>\n",
       "      <th>23</th>\n",
       "      <td>69.0</td>\n",
       "    </tr>\n",
       "    <tr>\n",
       "      <th>24</th>\n",
       "      <td>69.0</td>\n",
       "    </tr>\n",
       "  </tbody>\n",
       "</table>\n",
       "</div>"
      ],
      "text/plain": [
       "    Lot Frontage\n",
       "11          69.0\n",
       "14          69.0\n",
       "22          69.0\n",
       "23          69.0\n",
       "24          69.0"
      ]
     },
     "metadata": {},
     "output_type": "display_data"
    }
   ],
   "source": [
    "# --- Sel 4: Contoh 1 - Menggunakan Mode Otomatis ---\n",
    "print(\"--- Menjalankan Imputer dengan Mode Otomatis ---\")\n",
    "\n",
    "# 1. Inisialisasi imputer (mode otomatis adalah default)\n",
    "imputer_auto = NoventisImputer()\n",
    "\n",
    "# 2. Buat salinan data agar data asli tidak berubah\n",
    "df_imputed_auto = imputer_auto.fit_transform(df_ames.copy())\n",
    "\n",
    "# 3. Verifikasi hasilnya\n",
    "print(f\"\\nTotal nilai null setelah proses: {df_imputed_auto.isnull().sum().sum()}\")\n",
    "print(\"Contoh kolom 'LotFrontage' (diisi dengan rata-rata):\")\n",
    "display(df_imputed_auto[df_ames['Lot Frontage'].isnull()][['Lot Frontage']].head())"
   ]
  },
  {
   "cell_type": "markdown",
   "id": "6c3b9569",
   "metadata": {},
   "source": [
    "# Contoh 2 - Menggunakan Metode Spesifik per Kolom"
   ]
  },
  {
   "cell_type": "code",
   "execution_count": 5,
   "id": "7a87898a",
   "metadata": {},
   "outputs": [
    {
     "name": "stdout",
     "output_type": "stream",
     "text": [
      "\n",
      "--- Menjalankan Imputer dengan Metode Spesifik ---\n",
      "\n",
      "Total nilai null setelah proses: 0\n",
      "Contoh kolom 'LotFrontage' (diisi dengan median):\n"
     ]
    },
    {
     "data": {
      "text/html": [
       "<div>\n",
       "<style scoped>\n",
       "    .dataframe tbody tr th:only-of-type {\n",
       "        vertical-align: middle;\n",
       "    }\n",
       "\n",
       "    .dataframe tbody tr th {\n",
       "        vertical-align: top;\n",
       "    }\n",
       "\n",
       "    .dataframe thead th {\n",
       "        text-align: right;\n",
       "    }\n",
       "</style>\n",
       "<table border=\"1\" class=\"dataframe\">\n",
       "  <thead>\n",
       "    <tr style=\"text-align: right;\">\n",
       "      <th></th>\n",
       "      <th>Lot Frontage</th>\n",
       "    </tr>\n",
       "  </thead>\n",
       "  <tbody>\n",
       "    <tr>\n",
       "      <th>11</th>\n",
       "      <td>69.0</td>\n",
       "    </tr>\n",
       "    <tr>\n",
       "      <th>14</th>\n",
       "      <td>69.0</td>\n",
       "    </tr>\n",
       "    <tr>\n",
       "      <th>22</th>\n",
       "      <td>69.0</td>\n",
       "    </tr>\n",
       "    <tr>\n",
       "      <th>23</th>\n",
       "      <td>69.0</td>\n",
       "    </tr>\n",
       "    <tr>\n",
       "      <th>24</th>\n",
       "      <td>69.0</td>\n",
       "    </tr>\n",
       "  </tbody>\n",
       "</table>\n",
       "</div>"
      ],
      "text/plain": [
       "    Lot Frontage\n",
       "11          69.0\n",
       "14          69.0\n",
       "22          69.0\n",
       "23          69.0\n",
       "24          69.0"
      ]
     },
     "metadata": {},
     "output_type": "display_data"
    }
   ],
   "source": [
    "# --- Sel 5: Contoh 2 - Menggunakan Metode Spesifik per Kolom ---\n",
    "print(\"\\n--- Menjalankan Imputer dengan Metode Spesifik ---\")\n",
    "\n",
    "# Tentukan metode untuk setiap kolom yang memiliki null\n",
    "method_map = {\n",
    "    'LotFrontage': 'median',       # Gunakan median untuk umur\n",
    "    'Alley': 'mode',               # Gunakan modus\n",
    "    'MasVnrArea': 'mean',          # Gunakan rata-rata\n",
    "    'FireplaceQu': 'mode'\n",
    "    # Kolom lain yang tidak ada di map akan diabaikan jika 'default_method' tidak diset\n",
    "}\n",
    "\n",
    "# 1. Inisialisasi imputer dengan peta metode\n",
    "imputer_manual = NoventisImputer(method=method_map)\n",
    "\n",
    "# 2. Fit dan transform data\n",
    "df_imputed_manual = imputer_manual.fit_transform(df_ames.copy())\n",
    "\n",
    "# 3. Verifikasi hasilnya\n",
    "print(f\"\\nTotal nilai null setelah proses: {df_imputed_manual.isnull().sum().sum()}\")\n",
    "print(\"Contoh kolom 'LotFrontage' (diisi dengan median):\")\n",
    "display(df_imputed_manual[df_ames['Lot Frontage'].isnull()][['Lot Frontage']].head())"
   ]
  },
  {
   "cell_type": "markdown",
   "id": "0a32ddb9",
   "metadata": {},
   "source": [
    "# Contoh 3 - Menggunakan KNN Imputer"
   ]
  },
  {
   "cell_type": "code",
   "execution_count": 6,
   "id": "c8e48396",
   "metadata": {},
   "outputs": [
    {
     "name": "stdout",
     "output_type": "stream",
     "text": [
      "\n",
      "--- Menjalankan Imputer dengan Metode KNN ---\n",
      "\n",
      "Total nilai null setelah proses: 0\n",
      "Contoh kolom 'LotFrontage' (diisi dengan estimasi KNN):\n"
     ]
    },
    {
     "data": {
      "text/html": [
       "<div>\n",
       "<style scoped>\n",
       "    .dataframe tbody tr th:only-of-type {\n",
       "        vertical-align: middle;\n",
       "    }\n",
       "\n",
       "    .dataframe tbody tr th {\n",
       "        vertical-align: top;\n",
       "    }\n",
       "\n",
       "    .dataframe thead th {\n",
       "        text-align: right;\n",
       "    }\n",
       "</style>\n",
       "<table border=\"1\" class=\"dataframe\">\n",
       "  <thead>\n",
       "    <tr style=\"text-align: right;\">\n",
       "      <th></th>\n",
       "      <th>Lot Frontage</th>\n",
       "    </tr>\n",
       "  </thead>\n",
       "  <tbody>\n",
       "    <tr>\n",
       "      <th>11</th>\n",
       "      <td>74.0</td>\n",
       "    </tr>\n",
       "    <tr>\n",
       "      <th>14</th>\n",
       "      <td>48.8</td>\n",
       "    </tr>\n",
       "    <tr>\n",
       "      <th>22</th>\n",
       "      <td>77.8</td>\n",
       "    </tr>\n",
       "    <tr>\n",
       "      <th>23</th>\n",
       "      <td>64.8</td>\n",
       "    </tr>\n",
       "    <tr>\n",
       "      <th>24</th>\n",
       "      <td>64.8</td>\n",
       "    </tr>\n",
       "  </tbody>\n",
       "</table>\n",
       "</div>"
      ],
      "text/plain": [
       "    Lot Frontage\n",
       "11          74.0\n",
       "14          48.8\n",
       "22          77.8\n",
       "23          64.8\n",
       "24          64.8"
      ]
     },
     "metadata": {},
     "output_type": "display_data"
    }
   ],
   "source": [
    "# --- Sel 6: Contoh 3 - Menggunakan KNN Imputer ---\n",
    "print(\"\\n--- Menjalankan Imputer dengan Metode KNN ---\")\n",
    "\n",
    "# 1. Inisialisasi imputer dengan metode 'knn'\n",
    "imputer_knn = NoventisImputer(method='knn', n_neighbors=5)\n",
    "\n",
    "# 2. Fit dan transform data\n",
    "df_imputed_knn = imputer_knn.fit_transform(df_ames.copy())\n",
    "\n",
    "# 3. Verifikasi hasilnya\n",
    "print(f\"\\nTotal nilai null setelah proses: {df_imputed_knn.isnull().sum().sum()}\")\n",
    "print(\"Contoh kolom 'LotFrontage' (diisi dengan estimasi KNN):\")\n",
    "display(df_imputed_knn[df_ames['Lot Frontage'].isnull()][['Lot Frontage']].head())"
   ]
  }
 ],
 "metadata": {
  "kernelspec": {
   "display_name": "base",
   "language": "python",
   "name": "python3"
  },
  "language_info": {
   "codemirror_mode": {
    "name": "ipython",
    "version": 3
   },
   "file_extension": ".py",
   "mimetype": "text/x-python",
   "name": "python",
   "nbconvert_exporter": "python",
   "pygments_lexer": "ipython3",
   "version": "3.12.7"
  }
 },
 "nbformat": 4,
 "nbformat_minor": 5
}
