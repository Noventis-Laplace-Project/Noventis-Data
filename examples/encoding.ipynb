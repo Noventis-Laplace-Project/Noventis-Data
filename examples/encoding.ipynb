{
 "cells": [
  {
   "cell_type": "code",
   "execution_count": 24,
   "id": "9ae7085d",
   "metadata": {},
   "outputs": [
    {
     "name": "stdout",
     "output_type": "stream",
     "text": [
      "Successfully imported modules from data_cleaner!\n"
     ]
    }
   ],
   "source": [
    "import sys\n",
    "import os\n",
    "\n",
    "module_path = os.path.abspath(os.path.join('..'))\n",
    "\n",
    "if module_path not in sys.path:\n",
    "    sys.path.append(module_path)\n",
    "\n",
    "print('Successfully imported modules from data_cleaner!')"
   ]
  },
  {
   "cell_type": "code",
   "execution_count": 25,
   "id": "92985b5f",
   "metadata": {},
   "outputs": [],
   "source": [
    "from noventis.data_cleaner import NoventisEncoder\n",
    "import pandas as pd\n",
    "import seaborn as sb"
   ]
  },
  {
   "cell_type": "code",
   "execution_count": 26,
   "id": "d179477d",
   "metadata": {},
   "outputs": [
    {
     "data": {
      "application/vnd.microsoft.datawrangler.viewer.v0+json": {
       "columns": [
        {
         "name": "index",
         "rawType": "int64",
         "type": "integer"
        },
        {
         "name": "survived",
         "rawType": "int64",
         "type": "integer"
        },
        {
         "name": "pclass",
         "rawType": "int64",
         "type": "integer"
        },
        {
         "name": "sex",
         "rawType": "object",
         "type": "string"
        },
        {
         "name": "age",
         "rawType": "float64",
         "type": "float"
        },
        {
         "name": "sibsp",
         "rawType": "int64",
         "type": "integer"
        },
        {
         "name": "parch",
         "rawType": "int64",
         "type": "integer"
        },
        {
         "name": "fare",
         "rawType": "float64",
         "type": "float"
        },
        {
         "name": "embarked",
         "rawType": "object",
         "type": "string"
        },
        {
         "name": "class",
         "rawType": "category",
         "type": "unknown"
        },
        {
         "name": "who",
         "rawType": "object",
         "type": "string"
        },
        {
         "name": "adult_male",
         "rawType": "bool",
         "type": "boolean"
        },
        {
         "name": "deck",
         "rawType": "category",
         "type": "unknown"
        },
        {
         "name": "embark_town",
         "rawType": "object",
         "type": "string"
        },
        {
         "name": "alive",
         "rawType": "object",
         "type": "string"
        },
        {
         "name": "alone",
         "rawType": "bool",
         "type": "boolean"
        }
       ],
       "ref": "41498b56-2ba1-458d-afed-03f09ddec371",
       "rows": [
        [
         "0",
         "0",
         "3",
         "male",
         "22.0",
         "1",
         "0",
         "7.25",
         "S",
         "Third",
         "man",
         "True",
         null,
         "Southampton",
         "no",
         "False"
        ],
        [
         "1",
         "1",
         "1",
         "female",
         "38.0",
         "1",
         "0",
         "71.2833",
         "C",
         "First",
         "woman",
         "False",
         "C",
         "Cherbourg",
         "yes",
         "False"
        ],
        [
         "2",
         "1",
         "3",
         "female",
         "26.0",
         "0",
         "0",
         "7.925",
         "S",
         "Third",
         "woman",
         "False",
         null,
         "Southampton",
         "yes",
         "True"
        ],
        [
         "3",
         "1",
         "1",
         "female",
         "35.0",
         "1",
         "0",
         "53.1",
         "S",
         "First",
         "woman",
         "False",
         "C",
         "Southampton",
         "yes",
         "False"
        ],
        [
         "4",
         "0",
         "3",
         "male",
         "35.0",
         "0",
         "0",
         "8.05",
         "S",
         "Third",
         "man",
         "True",
         null,
         "Southampton",
         "no",
         "True"
        ]
       ],
       "shape": {
        "columns": 15,
        "rows": 5
       }
      },
      "text/html": [
       "<div>\n",
       "<style scoped>\n",
       "    .dataframe tbody tr th:only-of-type {\n",
       "        vertical-align: middle;\n",
       "    }\n",
       "\n",
       "    .dataframe tbody tr th {\n",
       "        vertical-align: top;\n",
       "    }\n",
       "\n",
       "    .dataframe thead th {\n",
       "        text-align: right;\n",
       "    }\n",
       "</style>\n",
       "<table border=\"1\" class=\"dataframe\">\n",
       "  <thead>\n",
       "    <tr style=\"text-align: right;\">\n",
       "      <th></th>\n",
       "      <th>survived</th>\n",
       "      <th>pclass</th>\n",
       "      <th>sex</th>\n",
       "      <th>age</th>\n",
       "      <th>sibsp</th>\n",
       "      <th>parch</th>\n",
       "      <th>fare</th>\n",
       "      <th>embarked</th>\n",
       "      <th>class</th>\n",
       "      <th>who</th>\n",
       "      <th>adult_male</th>\n",
       "      <th>deck</th>\n",
       "      <th>embark_town</th>\n",
       "      <th>alive</th>\n",
       "      <th>alone</th>\n",
       "    </tr>\n",
       "  </thead>\n",
       "  <tbody>\n",
       "    <tr>\n",
       "      <th>0</th>\n",
       "      <td>0</td>\n",
       "      <td>3</td>\n",
       "      <td>male</td>\n",
       "      <td>22.0</td>\n",
       "      <td>1</td>\n",
       "      <td>0</td>\n",
       "      <td>7.2500</td>\n",
       "      <td>S</td>\n",
       "      <td>Third</td>\n",
       "      <td>man</td>\n",
       "      <td>True</td>\n",
       "      <td>NaN</td>\n",
       "      <td>Southampton</td>\n",
       "      <td>no</td>\n",
       "      <td>False</td>\n",
       "    </tr>\n",
       "    <tr>\n",
       "      <th>1</th>\n",
       "      <td>1</td>\n",
       "      <td>1</td>\n",
       "      <td>female</td>\n",
       "      <td>38.0</td>\n",
       "      <td>1</td>\n",
       "      <td>0</td>\n",
       "      <td>71.2833</td>\n",
       "      <td>C</td>\n",
       "      <td>First</td>\n",
       "      <td>woman</td>\n",
       "      <td>False</td>\n",
       "      <td>C</td>\n",
       "      <td>Cherbourg</td>\n",
       "      <td>yes</td>\n",
       "      <td>False</td>\n",
       "    </tr>\n",
       "    <tr>\n",
       "      <th>2</th>\n",
       "      <td>1</td>\n",
       "      <td>3</td>\n",
       "      <td>female</td>\n",
       "      <td>26.0</td>\n",
       "      <td>0</td>\n",
       "      <td>0</td>\n",
       "      <td>7.9250</td>\n",
       "      <td>S</td>\n",
       "      <td>Third</td>\n",
       "      <td>woman</td>\n",
       "      <td>False</td>\n",
       "      <td>NaN</td>\n",
       "      <td>Southampton</td>\n",
       "      <td>yes</td>\n",
       "      <td>True</td>\n",
       "    </tr>\n",
       "    <tr>\n",
       "      <th>3</th>\n",
       "      <td>1</td>\n",
       "      <td>1</td>\n",
       "      <td>female</td>\n",
       "      <td>35.0</td>\n",
       "      <td>1</td>\n",
       "      <td>0</td>\n",
       "      <td>53.1000</td>\n",
       "      <td>S</td>\n",
       "      <td>First</td>\n",
       "      <td>woman</td>\n",
       "      <td>False</td>\n",
       "      <td>C</td>\n",
       "      <td>Southampton</td>\n",
       "      <td>yes</td>\n",
       "      <td>False</td>\n",
       "    </tr>\n",
       "    <tr>\n",
       "      <th>4</th>\n",
       "      <td>0</td>\n",
       "      <td>3</td>\n",
       "      <td>male</td>\n",
       "      <td>35.0</td>\n",
       "      <td>0</td>\n",
       "      <td>0</td>\n",
       "      <td>8.0500</td>\n",
       "      <td>S</td>\n",
       "      <td>Third</td>\n",
       "      <td>man</td>\n",
       "      <td>True</td>\n",
       "      <td>NaN</td>\n",
       "      <td>Southampton</td>\n",
       "      <td>no</td>\n",
       "      <td>True</td>\n",
       "    </tr>\n",
       "  </tbody>\n",
       "</table>\n",
       "</div>"
      ],
      "text/plain": [
       "   survived  pclass     sex   age  sibsp  parch     fare embarked  class  \\\n",
       "0         0       3    male  22.0      1      0   7.2500        S  Third   \n",
       "1         1       1  female  38.0      1      0  71.2833        C  First   \n",
       "2         1       3  female  26.0      0      0   7.9250        S  Third   \n",
       "3         1       1  female  35.0      1      0  53.1000        S  First   \n",
       "4         0       3    male  35.0      0      0   8.0500        S  Third   \n",
       "\n",
       "     who  adult_male deck  embark_town alive  alone  \n",
       "0    man        True  NaN  Southampton    no  False  \n",
       "1  woman       False    C    Cherbourg   yes  False  \n",
       "2  woman       False  NaN  Southampton   yes   True  \n",
       "3  woman       False    C  Southampton   yes  False  \n",
       "4    man        True  NaN  Southampton    no   True  "
      ]
     },
     "execution_count": 26,
     "metadata": {},
     "output_type": "execute_result"
    }
   ],
   "source": [
    "df = sb.load_dataset('titanic')\n",
    "df.head()"
   ]
  },
  {
   "cell_type": "code",
   "execution_count": 27,
   "id": "effd7101",
   "metadata": {},
   "outputs": [],
   "source": [
    "X = df.drop(columns=['alone'], axis=1)\n",
    "y = df['alone']"
   ]
  },
  {
   "cell_type": "code",
   "execution_count": 28,
   "id": "b35b9c10",
   "metadata": {},
   "outputs": [],
   "source": [
    "encoder = NoventisEncoder(\n",
    "    target_column=y,\n",
    "    cv=2)"
   ]
  },
  {
   "cell_type": "code",
   "execution_count": 23,
   "id": "9b776845",
   "metadata": {},
   "outputs": [
    {
     "name": "stdout",
     "output_type": "stream",
     "text": [
      "============================================================\n",
      "🚀 NOVENTIS ENCODER - ANALYSIS REPORT\n",
      "============================================================\n",
      "📊 Analyzed 7 categorical columns\n",
      "\n",
      "⚠️  MANUAL INTERVENTION RECOMMENDED for 'who':\n",
      "   - High correlation with target (0.451)\n",
      "   - Consider using ordinal encoding with proper ordering\n",
      "   - Sample values: ['man', 'woman', 'child']\n",
      "   - Falling back to target encoding for now\n",
      "\n",
      "\n",
      "📋 ENCODING SUMMARY\n",
      "----------------------------------------\n",
      "   LABEL: 2 columns\n",
      "   OHE: 3 columns\n",
      "   TARGET: 2 columns\n",
      "\n",
      "📊 DETAILED COLUMN ANALYSIS\n",
      "----------------------------------------\n",
      "   sex:\n",
      "      Method: LABEL\n",
      "      Unique values: 2\n",
      "      Target correlation: 0.300\n",
      "\n",
      "   embarked:\n",
      "      Method: OHE\n",
      "      Unique values: 3\n",
      "      Target correlation: 0.110\n",
      "      Memory impact: 0.0 MB\n",
      "\n",
      "   class:\n",
      "      Method: OHE\n",
      "      Unique values: 3\n",
      "      Target correlation: 0.127\n",
      "      Memory impact: 0.0 MB\n",
      "\n",
      "   who:\n",
      "      Method: TARGET\n",
      "      Unique values: 3\n",
      "      Target correlation: 0.451\n",
      "\n",
      "   deck:\n",
      "      Method: TARGET\n",
      "      Unique values: 7\n",
      "      Target correlation: 0.196\n",
      "\n",
      "   embark_town:\n",
      "      Method: OHE\n",
      "      Unique values: 3\n",
      "      Target correlation: 0.110\n",
      "      Memory impact: 0.0 MB\n",
      "\n",
      "   alive:\n",
      "      Method: LABEL\n",
      "      Unique values: 2\n",
      "      Target correlation: 0.198\n",
      "\n",
      "============================================================\n",
      "🔄 Transforming data...\n",
      "✅ Successfully transformed 16 columns\n",
      "{'method': 'auto', 'learned_columns': {'sex': 'label', 'embarked': 'ohe', 'class': 'ohe', 'who': 'target', 'deck': 'target', 'embark_town': 'ohe', 'alive': 'label'}, 'encoding_stats': {'sex': {'method': 'label', 'original_cardinality': 2, 'correlation': np.float64(0.2995432665046126), 'memory_impact': 0.0135955810546875}, 'embarked': {'method': 'ohe', 'original_cardinality': 3, 'correlation': np.float64(0.11023168973167091), 'memory_impact': 0.02039337158203125}, 'class': {'method': 'ohe', 'original_cardinality': 3, 'correlation': np.float64(0.12745037040392346), 'memory_impact': 0.02039337158203125}, 'who': {'method': 'target', 'original_cardinality': 3, 'correlation': np.float64(0.45111169492107545), 'memory_impact': 0.02039337158203125}, 'deck': {'method': 'target', 'original_cardinality': 7, 'correlation': np.float64(0.1956860721577336), 'memory_impact': 0.04758453369140625}, 'embark_town': {'method': 'ohe', 'original_cardinality': 3, 'correlation': np.float64(0.11023168973167091), 'memory_impact': 0.02039337158203125}, 'alive': {'method': 'label', 'original_cardinality': 2, 'correlation': np.float64(0.1983058444176058), 'memory_impact': 0.0135955810546875}}, 'column_info': {'sex': {'unique_count': 2, 'missing_ratio': np.float64(0.0), 'correlation_with_target': np.float64(0.2995432665046126), 'ohe_memory_mb': 0.0135955810546875, 'recommended_encoding': 'label', 'sample_values': {'male': 577, 'female': 314}}, 'embarked': {'unique_count': 3, 'missing_ratio': np.float64(0.002244668911335578), 'correlation_with_target': np.float64(0.11023168973167091), 'ohe_memory_mb': 0.02039337158203125, 'recommended_encoding': 'ohe', 'sample_values': {'S': 644, 'C': 168, 'Q': 77}}, 'class': {'unique_count': 3, 'missing_ratio': np.float64(0.0), 'correlation_with_target': np.float64(0.12745037040392346), 'ohe_memory_mb': 0.02039337158203125, 'recommended_encoding': 'ohe', 'sample_values': {'Third': 491, 'First': 216, 'Second': 184}}, 'who': {'unique_count': 3, 'missing_ratio': np.float64(0.0), 'correlation_with_target': np.float64(0.45111169492107545), 'ohe_memory_mb': 0.02039337158203125, 'recommended_encoding': 'ordinal_suggest', 'sample_values': {'man': 537, 'woman': 271, 'child': 83}}, 'deck': {'unique_count': 7, 'missing_ratio': np.float64(0.7721661054994389), 'correlation_with_target': np.float64(0.1956860721577336), 'ohe_memory_mb': 0.04758453369140625, 'recommended_encoding': 'target', 'sample_values': {'C': 59, 'B': 47, 'D': 33}}, 'embark_town': {'unique_count': 3, 'missing_ratio': np.float64(0.002244668911335578), 'correlation_with_target': np.float64(0.11023168973167091), 'ohe_memory_mb': 0.02039337158203125, 'recommended_encoding': 'ohe', 'sample_values': {'Southampton': 644, 'Cherbourg': 168, 'Queenstown': 77}}, 'alive': {'unique_count': 2, 'missing_ratio': np.float64(0.0), 'correlation_with_target': np.float64(0.1983058444176058), 'ohe_memory_mb': 0.0135955810546875, 'recommended_encoding': 'label', 'sample_values': {'no': 549, 'yes': 342}}}, 'is_fitted': True}\n"
     ]
    }
   ],
   "source": [
    "# Fit dan transform\n",
    "X_encoded = encoder.fit_transform(X, y)\n",
    "\n",
    "# Lihat informasi encoding\n",
    "encoding_info = encoder.get_encoding_info()\n",
    "print(encoding_info)"
   ]
  },
  {
   "cell_type": "code",
   "execution_count": null,
   "id": "c52cb1bf",
   "metadata": {},
   "outputs": [],
   "source": []
  }
 ],
 "metadata": {
  "kernelspec": {
   "display_name": "base",
   "language": "python",
   "name": "python3"
  },
  "language_info": {
   "codemirror_mode": {
    "name": "ipython",
    "version": 3
   },
   "file_extension": ".py",
   "mimetype": "text/x-python",
   "name": "python",
   "nbconvert_exporter": "python",
   "pygments_lexer": "ipython3",
   "version": "3.12.7"
  }
 },
 "nbformat": 4,
 "nbformat_minor": 5
}
