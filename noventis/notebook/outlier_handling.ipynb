{
 "cells": [
  {
   "cell_type": "code",
   "execution_count": 1,
   "id": "18626a06",
   "metadata": {},
   "outputs": [],
   "source": [
    "import pandas as pd\n",
    "import numpy as np\n",
    "from scipy.stats import skew"
   ]
  },
  {
   "cell_type": "code",
   "execution_count": null,
   "id": "37deab4c",
   "metadata": {},
   "outputs": [],
   "source": [
    "def handle_outliers_revised(\n",
    "    df: pd.DataFrame,\n",
    "    feature_method_map: dict[str, str] = None,\n",
    "    default_method: str = None, # 'auto', 'trim', 'winsorize', 'iqr', atau 'none'\n",
    "    iqr_multiplier: float = 1.5,\n",
    "    quantile_range: tuple[float, float] = (0.05, 0.95),\n",
    "    min_data_threshold: int = 100,\n",
    "    skew_threshold: float = 1.0\n",
    ") -> pd.DataFrame:\n",
    "    \"\"\"\n",
    "    Menangani outlier pada kolom numerik DataFrame dengan cerdas dan aman.\n",
    "\n",
    "    Metode 'trim' dan 'iqr' mengidentifikasi semua baris outlier dari semua\n",
    "    kolom terlebih dahulu, lalu menghapusnya dalam satu operasi untuk\n",
    "    menjamin konsistensi hasil.\n",
    "\n",
    "    Parameters:\n",
    "    -----------\n",
    "    df : pd.DataFrame\n",
    "        DataFrame input yang akan diproses.\n",
    "    feature_method_map : dict[str, str], optional\n",
    "        Peta untuk menerapkan metode spesifik per kolom, misal: {'Gaji': 'winsorize'}.\n",
    "        Metode yang tersedia: 'trim', 'winsorize', 'iqr', 'auto', 'none'.\n",
    "    default_method : str, optional\n",
    "        Metode fallback jika tidak ada di peta. Jika None, akan disetel ke 'auto'.\n",
    "    iqr_multiplier : float, default 1.5\n",
    "        Pengali untuk metode 'iqr' dalam menentukan batas outlier.\n",
    "    quantile_range : tuple[float, float], default (0.05, 0.95)\n",
    "        Batas kuantil bawah dan atas untuk metode 'trim' dan 'winsorize'.\n",
    "    min_data_threshold : int, default 100\n",
    "        Batas jumlah data untuk penentuan metode otomatis. Di bawah ini, 'iqr' digunakan.\n",
    "    skew_threshold : float, default 1.0\n",
    "        Batas absolut skewness untuk penentuan metode otomatis.\n",
    "\n",
    "    Returns:\n",
    "    --------\n",
    "    pd.DataFrame\n",
    "        DataFrame baru yang telah ditangani outlier-nya.\n",
    "    \"\"\"\n",
    "    df_out = df.copy()\n",
    "    feature_method_map = feature_method_map or {}\n",
    "    default_method = default_method or 'auto'\n",
    "    \n",
    "    indices_to_drop = set()\n",
    "\n",
    "    # Fungsi helper untuk memilih metode otomatis\n",
    "    def _choose_auto_method(col_data: pd.Series) -> str:\n",
    "        if len(col_data.dropna()) < min_data_threshold:\n",
    "            return 'iqr'\n",
    "        elif abs(skew(col_data.dropna())) > skew_threshold:\n",
    "            return 'winsorize'\n",
    "        else:\n",
    "            return 'trim'\n",
    "\n",
    "    # Loop untuk menerapkan Winsorize dan mengumpulkan indeks untuk dihapus\n",
    "    for col in df_out.select_dtypes(include=np.number).columns:\n",
    "        method = feature_method_map.get(col, default_method)\n",
    "        if method == 'auto':\n",
    "            method = _choose_auto_method(df_out[col])\n",
    "        \n",
    "        if method == 'none':\n",
    "            continue\n",
    "\n",
    "        # Hitung batas berdasarkan metode\n",
    "        lower_bound, upper_bound = None, None\n",
    "        if method in ['trim', 'winsorize']:\n",
    "            q_low, q_high = df_out[col].quantile(quantile_range)\n",
    "            lower_bound, upper_bound = q_low, q_high\n",
    "        elif method == 'iqr':\n",
    "            Q1 = df_out[col].quantile(0.25)\n",
    "            Q3 = df_out[col].quantile(0.75)\n",
    "            IQR = Q3 - Q1\n",
    "            lower_bound = Q1 - iqr_multiplier * IQR\n",
    "            upper_bound = Q3 + iqr_multiplier * IQR\n",
    "\n",
    "        # Lakukan aksi\n",
    "        if method == 'winsorize':\n",
    "            df_out[col] = np.clip(df_out[col], lower_bound, upper_bound)\n",
    "        elif method in ['trim', 'iqr']:\n",
    "            # Kumpulkan indeks baris yang merupakan outlier\n",
    "            outlier_indices = df_out.index[(df_out[col] < lower_bound) | (df_out[col] > upper_bound)]\n",
    "            indices_to_drop.update(outlier_indices)\n",
    "        elif method != 'none':\n",
    "            raise ValueError(f\"Metode '{method}' untuk kolom '{col}' tidak dikenali.\")\n",
    "\n",
    "    # Hapus semua baris outlier yang terkumpul dalam satu langkah\n",
    "    if indices_to_drop:\n",
    "        df_out.drop(index=list(indices_to_drop), inplace=True)\n",
    "        \n",
    "    return df_out"
   ]
  },
  {
   "cell_type": "markdown",
   "id": "9c5f24ea",
   "metadata": {},
   "source": [
    "# Contoh Implementasi"
   ]
  },
  {
   "cell_type": "code",
   "execution_count": 3,
   "id": "45798006",
   "metadata": {},
   "outputs": [
    {
     "name": "stdout",
     "output_type": "stream",
     "text": [
      "Data Asli:\n",
      "     Gaji  Skor_Tes  Jumlah_Anak Departemen\n",
      "0    5000        88            1          A\n",
      "1    6000        92            2          B\n",
      "2    5500        85            2          A\n",
      "3    7000        95            1          C\n",
      "4    6500        90            3          B\n",
      "5    5800        89            2          A\n",
      "6    7200        93            8          C\n",
      "7    6300        87            1          A\n",
      "8    5900         5            2          B\n",
      "9  500000       105            1          A\n"
     ]
    }
   ],
   "source": [
    "# Membuat DataFrame contoh\n",
    "data = {\n",
    "    'Gaji': [5000, 6000, 5500, 7000, 6500, 5800, 7200, 6300, 5900, 500000], # Sangat skewed\n",
    "    'Skor_Tes': [88, 92, 85, 95, 90, 89, 93, 87, 5, 105], # Simetris dengan outlier\n",
    "    'Jumlah_Anak': [1, 2, 2, 1, 3, 2, 8, 1, 2, 1], # Data kecil, metode IQR cocok\n",
    "    'Departemen': ['A', 'B', 'A', 'C', 'B', 'A', 'C', 'A', 'B', 'A'] # Non-numerik\n",
    "}\n",
    "df_contoh = pd.DataFrame(data)\n",
    "\n",
    "print(\"Data Asli:\")\n",
    "print(df_contoh)"
   ]
  },
  {
   "cell_type": "markdown",
   "id": "5ae37684",
   "metadata": {},
   "source": [
    "<h2> Mode Otomatis (Penggunaan Default)"
   ]
  },
  {
   "cell_type": "code",
   "execution_count": 4,
   "id": "cea62249",
   "metadata": {},
   "outputs": [
    {
     "name": "stdout",
     "output_type": "stream",
     "text": [
      "\n",
      "Contoh 1: Mode Otomatis\n",
      "   Gaji  Skor_Tes  Jumlah_Anak Departemen\n",
      "0  5000        88            1          A\n",
      "1  6000        92            2          B\n",
      "2  5500        85            2          A\n",
      "3  7000        95            1          C\n",
      "4  6500        90            3          B\n",
      "5  5800        89            2          A\n",
      "7  6300        87            1          A\n"
     ]
    }
   ],
   "source": [
    "df_bersih_auto = handle_outliers_revised(df_contoh)\n",
    "print(\"\\nContoh 1: Mode Otomatis\")\n",
    "print(df_bersih_auto)"
   ]
  },
  {
   "cell_type": "markdown",
   "id": "6f21c62a",
   "metadata": {},
   "source": [
    "<h2> Metode Spesifik per Kolom (feature_method_map)"
   ]
  },
  {
   "cell_type": "code",
   "execution_count": 5,
   "id": "b243e5b5",
   "metadata": {},
   "outputs": [
    {
     "name": "stdout",
     "output_type": "stream",
     "text": [
      "\n",
      "Contoh 2: Metode Spesifik per Kolom\n",
      "   Gaji  Skor_Tes  Jumlah_Anak Departemen\n",
      "1  6000        92            2          B\n",
      "2  5500        85            2          A\n",
      "3  7000        95            1          C\n",
      "4  6500        90            3          B\n",
      "5  5800        89            2          A\n",
      "7  6300        87            1          A\n",
      "8  5900         5            2          B\n"
     ]
    }
   ],
   "source": [
    "peta_kustom = {\n",
    "    'Gaji': 'trim',          # Paksa hapus outlier Gaji, jangan di-winsorize\n",
    "    'Skor_Tes': 'none'       # Jangan lakukan apa-apa pada Skor_Tes\n",
    "}\n",
    "df_bersih_map = handle_outliers_revised(df_contoh, feature_method_map=peta_kustom)\n",
    "print(\"\\nContoh 2: Metode Spesifik per Kolom\")\n",
    "print(df_bersih_map)"
   ]
  },
  {
   "cell_type": "markdown",
   "id": "9f937f4d",
   "metadata": {},
   "source": [
    "<h2> Mengubah Metode Default (default_method)"
   ]
  },
  {
   "cell_type": "code",
   "execution_count": 6,
   "id": "65f722ac",
   "metadata": {},
   "outputs": [
    {
     "name": "stdout",
     "output_type": "stream",
     "text": [
      "\n",
      "Contoh 3: Mengubah Metode Default menjadi 'winsorize'\n",
      "     Gaji  Skor_Tes  Jumlah_Anak Departemen\n",
      "0    5225      88.0         1.00          A\n",
      "1    6000      92.0         2.00          B\n",
      "2    5500      85.0         2.00          A\n",
      "3    7000      95.0         1.00          C\n",
      "4    6500      90.0         3.00          B\n",
      "5    5800      89.0         2.00          A\n",
      "6    7200      93.0         5.75          C\n",
      "7    6300      87.0         1.00          A\n",
      "8    5900      41.0         2.00          B\n",
      "9  278240     100.5         1.00          A\n"
     ]
    },
    {
     "name": "stderr",
     "output_type": "stream",
     "text": [
      "d:\\ANACONDA\\Lib\\site-packages\\numpy\\core\\fromnumeric.py:59: FutureWarning: Downcasting behavior in Series and DataFrame methods 'where', 'mask', and 'clip' is deprecated. In a future version this will not infer object dtypes or cast all-round floats to integers. Instead call result.infer_objects(copy=False) for object inference, or cast round floats explicitly. To opt-in to the future behavior, set `pd.set_option('future.no_silent_downcasting', True)`\n",
      "  return bound(*args, **kwds)\n"
     ]
    }
   ],
   "source": [
    "df_bersih_default = handle_outliers_revised(df_contoh, default_method='winsorize')\n",
    "print(\"\\nContoh 3: Mengubah Metode Default menjadi 'winsorize'\")\n",
    "print(df_bersih_default)"
   ]
  },
  {
   "cell_type": "markdown",
   "id": "42ea1794",
   "metadata": {},
   "source": [
    "<h2> Mengatur Parameter Kuantil & IQR"
   ]
  },
  {
   "cell_type": "code",
   "execution_count": 7,
   "id": "598be5a7",
   "metadata": {},
   "outputs": [
    {
     "name": "stdout",
     "output_type": "stream",
     "text": [
      "\n",
      "Contoh 4: Mengatur Parameter Kuantil & IQR\n",
      "   Gaji  Skor_Tes  Jumlah_Anak Departemen\n",
      "0  5000        88            1          A\n",
      "1  6000        92            2          B\n",
      "2  5500        85            2          A\n",
      "3  7000        95            1          C\n",
      "4  6500        90            3          B\n",
      "5  5800        89            2          A\n",
      "7  6300        87            1          A\n"
     ]
    }
   ],
   "source": [
    "# Membuat deteksi lebih ketat (hanya 1% data teratas/terbawah dianggap outlier)\n",
    "# dan rentang IQR lebih longgar (lebih toleran terhadap outlier)\n",
    "df_bersih_param = handle_outliers_revised(\n",
    "    df_contoh,\n",
    "    quantile_range=(0.01, 0.99),\n",
    "    iqr_multiplier=2.5\n",
    ")\n",
    "print(\"\\nContoh 4: Mengatur Parameter Kuantil & IQR\")\n",
    "print(df_bersih_param)"
   ]
  },
  {
   "cell_type": "markdown",
   "id": "5f48bb92",
   "metadata": {},
   "source": [
    "<h2> Mengatur Parameter Mode Otomatis"
   ]
  },
  {
   "cell_type": "code",
   "execution_count": 8,
   "id": "f262b669",
   "metadata": {},
   "outputs": [
    {
     "name": "stdout",
     "output_type": "stream",
     "text": [
      "\n",
      "Contoh 5: Mengatur Parameter Mode Otomatis\n",
      "   Gaji  Skor_Tes  Jumlah_Anak Departemen\n",
      "0  5000        88            1          A\n",
      "1  6000        92            2          B\n",
      "2  5500        85            2          A\n",
      "3  7000        95            1          C\n",
      "4  6500        90            3          B\n",
      "5  5800        89            2          A\n",
      "7  6300        87            1          A\n"
     ]
    }
   ],
   "source": [
    "# Anggap kolom 'skewed' jika skew > 0.8 (lebih sensitif)\n",
    "# Anggap data 'kecil' jika < 15 baris\n",
    "df_bersih_auto_param = handle_outliers_revised(\n",
    "    df_contoh,\n",
    "    skew_threshold=0.8,\n",
    "    min_data_threshold=15\n",
    ")\n",
    "print(\"\\nContoh 5: Mengatur Parameter Mode Otomatis\")\n",
    "print(df_bersih_auto_param)"
   ]
  },
  {
   "cell_type": "markdown",
   "id": "628ba8e5",
   "metadata": {},
   "source": [
    "<h1> Contoh Implementasi dengan Dataset > 100 baris"
   ]
  },
  {
   "cell_type": "code",
   "execution_count": 9,
   "id": "6fb30568",
   "metadata": {},
   "outputs": [
    {
     "name": "stdout",
     "output_type": "stream",
     "text": [
      "Karakteristik Data Besar (Sebelum):\n",
      "       Distribusi_Normal  Distribusi_Miring\n",
      "count         200.000000         200.000000\n",
      "mean           74.646528        2452.868088\n",
      "std            15.591514        6380.026947\n",
      "min           -50.000000         153.513495\n",
      "25%            67.948723         958.992279\n",
      "50%            74.958081        1688.453064\n",
      "75%            80.154360        2649.037721\n",
      "max           200.000000       90000.000000\n",
      "\n",
      "Skewness (Sebelum):\n",
      "Distribusi_Normal     0.070857\n",
      "Distribusi_Miring    13.117854\n",
      "dtype: float64\n"
     ]
    }
   ],
   "source": [
    "# Membuat dataset yang lebih besar\n",
    "np.random.seed(42) # Agar hasilnya selalu sama\n",
    "data_normal = np.random.randn(200) * 10 + 75 # Rata-rata 75\n",
    "data_normal[198] = 200 # Outlier atas\n",
    "data_normal[199] = -50 # Outlier bawah\n",
    "\n",
    "data_miring = np.random.gamma(2, size=200) * 1000\n",
    "data_miring[199] = 90000 # Outlier ekstrem\n",
    "\n",
    "df_besar = pd.DataFrame({\n",
    "    'Distribusi_Normal': data_normal,\n",
    "    'Distribusi_Miring': data_miring\n",
    "})\n",
    "\n",
    "print(\"Karakteristik Data Besar (Sebelum):\")\n",
    "print(df_besar.describe())\n",
    "print(\"\\nSkewness (Sebelum):\")\n",
    "print(df_besar.skew())"
   ]
  },
  {
   "cell_type": "code",
   "execution_count": 10,
   "id": "f7b36e9f",
   "metadata": {},
   "outputs": [
    {
     "name": "stdout",
     "output_type": "stream",
     "text": [
      "\n",
      "Karakteristik Data Besar (Sesudah):\n",
      "       Distribusi_Normal  Distribusi_Miring\n",
      "count         180.000000         180.000000\n",
      "mean           74.553164        1979.524840\n",
      "std             7.504460        1309.030889\n",
      "min            59.851528         407.413961\n",
      "25%            68.990943         959.686678\n",
      "50%            74.958081        1662.175758\n",
      "75%            79.733263        2532.984402\n",
      "max            90.499344        5125.559058\n",
      "\n",
      "Skewness (Sesudah):\n",
      "Distribusi_Normal    0.017568\n",
      "Distribusi_Miring    1.005164\n",
      "dtype: float64\n",
      "\n",
      "Jumlah baris sebelum: 200\n",
      "Jumlah baris sesudah: 180\n"
     ]
    }
   ],
   "source": [
    "# Menjalankan fungsi pada data besar\n",
    "df_besar_bersih = handle_outliers_revised(df_besar)\n",
    "\n",
    "print(\"\\nKarakteristik Data Besar (Sesudah):\")\n",
    "print(df_besar_bersih.describe())\n",
    "print(\"\\nSkewness (Sesudah):\")\n",
    "print(df_besar_bersih.skew())\n",
    "print(f\"\\nJumlah baris sebelum: {len(df_besar)}\")\n",
    "print(f\"Jumlah baris sesudah: {len(df_besar_bersih)}\")"
   ]
  }
 ],
 "metadata": {
  "kernelspec": {
   "display_name": "base",
   "language": "python",
   "name": "python3"
  },
  "language_info": {
   "codemirror_mode": {
    "name": "ipython",
    "version": 3
   },
   "file_extension": ".py",
   "mimetype": "text/x-python",
   "name": "python",
   "nbconvert_exporter": "python",
   "pygments_lexer": "ipython3",
   "version": "3.12.7"
  }
 },
 "nbformat": 4,
 "nbformat_minor": 5
}
