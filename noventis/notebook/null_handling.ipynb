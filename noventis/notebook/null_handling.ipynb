{
 "cells": [
  {
   "cell_type": "markdown",
   "id": "2093c194",
   "metadata": {},
   "source": [
    "# Null Handling \n"
   ]
  },
  {
   "cell_type": "markdown",
   "id": "c384831a",
   "metadata": {},
   "source": [
    "## Import library"
   ]
  },
  {
   "cell_type": "code",
   "execution_count": 2,
   "id": "9a0286c9",
   "metadata": {},
   "outputs": [],
   "source": [
    "import pandas as pd\n",
    "import numpy as np\n",
    "from sklearn.impute import KNNImputer, SimpleImputer"
   ]
  },
  {
   "cell_type": "markdown",
   "id": "9966e4b8",
   "metadata": {},
   "source": [
    "### There are 5 requirements \n",
    "1. KNN \n",
    "2. Mean\n",
    "3. Median\n",
    "4. Mode\n",
    "5. Dropping"
   ]
  },
  {
   "cell_type": "code",
   "execution_count": 3,
   "id": "b843c357",
   "metadata": {},
   "outputs": [],
   "source": [
    "import pandas as pd\n",
    "import numpy as np\n",
    "from sklearn.impute import KNNImputer, SimpleImputer\n",
    "\n",
    "def handle_nulls(df, method=None, n_neighbors=5):\n",
    "    \"\"\"\n",
    "    Handle missing values in a DataFrame (numerical & categorical).\n",
    "    - Auto-detects column types.\n",
    "    - KNN applied once for all numeric columns (efficient).\n",
    "    - Detects simple ordinal columns (few unique categories).\n",
    "    - Integer columns: mean is rounded *before* imputation.\n",
    "    \n",
    "    Parameters:\n",
    "    -----------\n",
    "    df : pandas.DataFrame\n",
    "        Dataset to clean.\n",
    "    method : str, dict, or None\n",
    "        - str: same method for all columns ('mean', 'median', 'mode', 'knn', 'drop').\n",
    "        - dict: per-column method, e.g. {'Age': 'median', 'Department': 'mode'}.\n",
    "        - None: auto (mean for numeric, mode for categorical/ordinal).\n",
    "    n_neighbors : int\n",
    "        Neighbors for KNN (numeric only).\n",
    "\n",
    "    Returns:\n",
    "    --------\n",
    "    df : pandas.DataFrame\n",
    "        DataFrame with NaNs handled.\n",
    "    \"\"\"\n",
    "    df = df.copy()\n",
    "\n",
    "    # Identify categorical and numeric columns\n",
    "    cat_cols = df.select_dtypes(include='object').columns\n",
    "    num_cols = df.select_dtypes(exclude='object').columns\n",
    "\n",
    "    # Detect ordinal (categorical with few unique values)\n",
    "    ordinal_cols = [col for col in cat_cols if df[col].nunique() <= 10]\n",
    "\n",
    "    # --- If KNN: apply once for all numeric columns ---\n",
    "    if method == 'knn':\n",
    "        if len(num_cols) > 0:\n",
    "            knn_imputer = KNNImputer(n_neighbors=n_neighbors)\n",
    "            df[num_cols] = knn_imputer.fit_transform(df[num_cols])\n",
    "            \n",
    "        # For categorical → mode\n",
    "        for col in cat_cols:\n",
    "            imp = SimpleImputer(strategy='most_frequent')\n",
    "            df[[col]] = imp.fit_transform(df[[col]])\n",
    "        return df\n",
    "\n",
    "    # --- Handle column by column for other methods ---\n",
    "    for col in df.columns:\n",
    "        if df[col].isnull().sum() == 0:\n",
    "            continue\n",
    "\n",
    "        # -- if column is skipped (method[col] = None)\n",
    "        if isinstance(method, dict) and col in method and method[col] is None:\n",
    "            continue  # not processed\n",
    "        \n",
    "        # Determine method (per-column dict or global)\n",
    "        if isinstance(method, dict):\n",
    "            chosen_method = method.get(col, None)\n",
    "        else:\n",
    "            chosen_method = method\n",
    "\n",
    "        # Auto fallback\n",
    "        if chosen_method is None:\n",
    "            if col in num_cols:\n",
    "                chosen_method = 'mean'\n",
    "            elif col in ordinal_cols:\n",
    "                chosen_method = 'mode'\n",
    "            else:\n",
    "                chosen_method = 'mode'\n",
    "\n",
    "        # Apply imputations\n",
    "        if chosen_method == 'mean':\n",
    "            if col in num_cols:\n",
    "                # Deteksi apakah semua nilai valid integer (meskipun dtype float karena NaN)\n",
    "                is_effectively_integer = np.all(df[col].dropna() % 1 == 0)\n",
    "                \n",
    "                if is_effectively_integer:\n",
    "                    mean_val = df[col].mean(skipna=True)\n",
    "                    mean_val = round(mean_val)   \n",
    "                    imp = SimpleImputer(strategy='constant', fill_value=mean_val)\n",
    "                    df[[col]] = imp.fit_transform(df[[col]])\n",
    "                else:\n",
    "                    imp = SimpleImputer(strategy='mean')\n",
    "                    df[[col]] = imp.fit_transform(df[[col]])\n",
    "            else:\n",
    "                imp = SimpleImputer(strategy='most_frequent')\n",
    "                df[[col]] = imp.fit_transform(df[[col]])\n",
    "\n",
    "        elif chosen_method == 'median':\n",
    "            if col in num_cols:\n",
    "                imp = SimpleImputer(strategy='median')\n",
    "                df[[col]] = imp.fit_transform(df[[col]])\n",
    "            else:\n",
    "                imp = SimpleImputer(strategy='most_frequent')\n",
    "                df[[col]] = imp.fit_transform(df[[col]])\n",
    "\n",
    "        elif chosen_method == 'mode':\n",
    "            imp = SimpleImputer(strategy='most_frequent')\n",
    "            df[[col]] = imp.fit_transform(df[[col]])\n",
    "\n",
    "        elif chosen_method == 'drop':\n",
    "            df.dropna(subset=[col], inplace=True)\n",
    "\n",
    "        else:\n",
    "            raise ValueError(f\"Unknown method: {chosen_method}\")\n",
    "\n",
    "    return df\n"
   ]
  },
  {
   "cell_type": "markdown",
   "id": "3846debf",
   "metadata": {},
   "source": [
    "Example Using "
   ]
  },
  {
   "cell_type": "code",
   "execution_count": 4,
   "id": "496ac2b0",
   "metadata": {},
   "outputs": [],
   "source": [
    "data = {\n",
    "    'Age': [25, np.nan, 30, 22, np.nan, 40],\n",
    "    'Salary': [5000, 6000, np.nan, 5500, 5200, np.nan],\n",
    "    'Level': ['Junior', 'Mid', np.nan, 'Senior', 'Junior', 'Mid'],  # ordinal-like\n",
    "    'Department': ['HR', 'Finance', np.nan, 'HR', 'IT', 'Finance']\n",
    "}\n",
    "df = pd.DataFrame(data)"
   ]
  },
  {
   "cell_type": "code",
   "execution_count": 5,
   "id": "44a5239e",
   "metadata": {},
   "outputs": [
    {
     "name": "stdout",
     "output_type": "stream",
     "text": [
      "Auto Mode:\n",
      "     Age  Salary   Level Department\n",
      "0  25.0  5000.0  Junior         HR\n",
      "1  29.0  6000.0     Mid    Finance\n",
      "2  30.0  5425.0  Junior    Finance\n",
      "3  22.0  5500.0  Senior         HR\n",
      "4  29.0  5200.0  Junior         IT\n",
      "5  40.0  5425.0     Mid    Finance\n"
     ]
    }
   ],
   "source": [
    "# 1) Auto mode (mean for numeric, mode for categorical/ordinal)\n",
    "df_auto = handle_nulls(df)\n",
    "print(\"Auto Mode:\\n\", df_auto)"
   ]
  },
  {
   "cell_type": "markdown",
   "id": "23be8caf",
   "metadata": {},
   "source": [
    "Example Using KNN"
   ]
  },
  {
   "cell_type": "code",
   "execution_count": 6,
   "id": "2729f02a",
   "metadata": {},
   "outputs": [
    {
     "name": "stdout",
     "output_type": "stream",
     "text": [
      "Original Dataset:\n",
      "     Age  Salary  Experience\n",
      "0  25.0  5000.0         1.0\n",
      "1   NaN  6000.0         3.0\n",
      "2  30.0     NaN         NaN\n",
      "3  22.0  5500.0         2.0\n",
      "4  28.0  5200.0         4.0\n",
      "5   NaN  5800.0         NaN\n",
      "6  40.0     NaN         5.0\n"
     ]
    }
   ],
   "source": [
    "# Dataset dengan missing values\n",
    "data_knn = {\n",
    "    'Age': [25, np.nan, 30, 22, 28, np.nan, 40],\n",
    "    'Salary': [5000, 6000, np.nan, 5500, 5200, 5800, np.nan],\n",
    "    'Experience': [1, 3, np.nan, 2, 4, np.nan, 5]\n",
    "}\n",
    "\n",
    "df_knn_test = pd.DataFrame(data_knn)\n",
    "print(\"Original Dataset:\\n\", df_knn_test)"
   ]
  },
  {
   "cell_type": "code",
   "execution_count": 7,
   "id": "17851f38",
   "metadata": {},
   "outputs": [
    {
     "name": "stdout",
     "output_type": "stream",
     "text": [
      "\n",
      "After KNN Imputation:\n",
      "     Age       Salary  Experience\n",
      "0  25.0  5000.000000    1.000000\n",
      "1  30.0  6000.000000    3.000000\n",
      "2  30.0  5233.333333    2.333333\n",
      "3  22.0  5500.000000    2.000000\n",
      "4  28.0  5200.000000    4.000000\n",
      "5  25.0  5800.000000    3.000000\n",
      "6  40.0  5400.000000    5.000000\n"
     ]
    }
   ],
   "source": [
    "df_knn_filled = handle_nulls(df_knn_test, method='knn', n_neighbors=3)\n",
    "print(\"\\nAfter KNN Imputation:\\n\", df_knn_filled) # Jalankan handle_nulls dengan KNN (numeric only)"
   ]
  },
  {
   "cell_type": "markdown",
   "id": "c1786192",
   "metadata": {},
   "source": [
    "Example Using Custom"
   ]
  },
  {
   "cell_type": "code",
   "execution_count": 8,
   "id": "ea25796a",
   "metadata": {},
   "outputs": [],
   "source": [
    "data_custom = {\n",
    "    'Age': [25, np.nan, 30, 22, np.nan, 40],\n",
    "    'Salary': [5000, 6000, np.nan, 5500, 5200, np.nan],\n",
    "    'Department': ['HR', 'Finance', np.nan, 'HR', 'IT', 'Finance']\n",
    "}\n",
    "df = pd.DataFrame(data_custom)"
   ]
  },
  {
   "cell_type": "code",
   "execution_count": 9,
   "id": "492a8ac4",
   "metadata": {},
   "outputs": [
    {
     "name": "stdout",
     "output_type": "stream",
     "text": [
      "    Age  Salary Department\n",
      "0  25.0  5000.0         HR\n",
      "1  29.0  6000.0    Finance\n",
      "2  30.0  5350.0    Finance\n",
      "3  22.0  5500.0         HR\n",
      "4  29.0  5200.0         IT\n",
      "5  40.0  5350.0    Finance\n"
     ]
    }
   ],
   "source": [
    "# Specific: use median for Age, mode for Department\n",
    "cleaned_custom = handle_nulls(df, method={'Age': 'mean', 'Salary': 'median'})\n",
    "print(cleaned_custom)"
   ]
  },
  {
   "cell_type": "markdown",
   "id": "573311c2",
   "metadata": {},
   "source": [
    "- Kolom Age \n",
    "\n",
    "Karena Age adalah numerik, handle_nulls menghitung median semua nilai non-missing.\n",
    "\n",
    "Nilai median dari [25, 30, 22, 40] adalah (25 + 30)/2 = 27.5 karena ada 4 data (genap) sehingga median adalah rata-rata dua nilai tengah.\n",
    "\n",
    "Nilai NaN di Age diganti dengan 27.5, tanpa pembulatan karena median default tidak membulatkan.\n",
    "\n",
    "- Kolom Salary \n",
    "\n",
    "Default method untuk numerik adalah mean, jadi diisi dengan rata-rata (5425.0 untuk NaN).\n",
    "\n",
    "- Kolom Departement \n",
    "\n",
    "Modus = Finance"
   ]
  },
  {
   "cell_type": "markdown",
   "id": "8befa1d3",
   "metadata": {},
   "source": []
  },
  {
   "cell_type": "markdown",
   "id": "df709277",
   "metadata": {},
   "source": [
    "Contoh Pemakaian untuk None di Method Dict"
   ]
  },
  {
   "cell_type": "code",
   "execution_count": 10,
   "id": "6e4cbeae",
   "metadata": {},
   "outputs": [
    {
     "name": "stdout",
     "output_type": "stream",
     "text": [
      "    Age  Score Dept\n",
      "0  25.0  100.0   HR\n",
      "1  27.5    NaN   HR\n",
      "2  30.0   90.0   IT\n"
     ]
    }
   ],
   "source": [
    "df = pd.DataFrame({\n",
    "    'Age': [25, np.nan, 30],\n",
    "    'Score': [100, np.nan, 90],\n",
    "    'Dept': ['HR', np.nan, 'IT']\n",
    "})\n",
    "\n",
    "cleaned = handle_nulls(df, method={'Age': 'median', 'Score': None, 'Dept': 'mode'})\n",
    "print(cleaned)"
   ]
  }
 ],
 "metadata": {
  "kernelspec": {
   "display_name": "Python 3",
   "language": "python",
   "name": "python3"
  },
  "language_info": {
   "codemirror_mode": {
    "name": "ipython",
    "version": 3
   },
   "file_extension": ".py",
   "mimetype": "text/x-python",
   "name": "python",
   "nbconvert_exporter": "python",
   "pygments_lexer": "ipython3",
   "version": "3.13.1"
  }
 },
 "nbformat": 4,
 "nbformat_minor": 5
}
