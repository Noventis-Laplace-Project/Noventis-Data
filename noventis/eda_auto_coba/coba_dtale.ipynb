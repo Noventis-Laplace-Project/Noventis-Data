{
 "cells": [
  {
   "cell_type": "code",
   "execution_count": 2,
   "id": "e365e1ca",
   "metadata": {},
   "outputs": [
    {
     "name": "stderr",
     "output_type": "stream",
     "text": [
      "C:\\Users\\ACER\\AppData\\Roaming\\Python\\Python312\\site-packages\\kaleido\\__init__.py:14: UserWarning:\n",
      "\n",
      "\n",
      "\n",
      "Warning: You have Plotly version 5.24.1, which is not compatible with this version of Kaleido (1.0.0).\n",
      "\n",
      "This means that static image generation (e.g. `fig.write_image()`) will not work.\n",
      "\n",
      "Please upgrade Plotly to version 6.1.1 or greater, or downgrade Kaleido to version 0.2.1.\n",
      "\n",
      "\n"
     ]
    }
   ],
   "source": [
    "import pandas as pd\n",
    "import numpy as np\n",
    "import dtale"
   ]
  },
  {
   "cell_type": "code",
   "execution_count": 3,
   "id": "d344ac6d",
   "metadata": {},
   "outputs": [],
   "source": [
    "df = pd.read_csv('https://raw.githubusercontent.com/datasciencedojo/datasets/master/titanic.csv')"
   ]
  },
  {
   "cell_type": "code",
   "execution_count": 4,
   "id": "e7a305fc",
   "metadata": {},
   "outputs": [],
   "source": [
    "df_diamond = pd.read_csv('https://raw.githubusercontent.com/mwaskom/seaborn-data/master/diamonds.csv')"
   ]
  },
  {
   "cell_type": "code",
   "execution_count": 5,
   "id": "0cf4e98d",
   "metadata": {},
   "outputs": [],
   "source": [
    "d = dtale.show(df)\n",
    "d.open_browser()  # This will open the D-Tale interface in your default web browser"
   ]
  },
  {
   "cell_type": "code",
   "execution_count": 6,
   "id": "8dc38184",
   "metadata": {},
   "outputs": [],
   "source": [
    "d2 = dtale.show(df_diamond)\n",
    "d2.open_browser()"
   ]
  },
  {
   "cell_type": "code",
   "execution_count": 7,
   "id": "251b1cf8",
   "metadata": {},
   "outputs": [],
   "source": [
    "d.kill()  # This will stop the D-Tale server when you're done\n",
    "d2.kill()"
   ]
  }
 ],
 "metadata": {
  "kernelspec": {
   "display_name": "base",
   "language": "python",
   "name": "python3"
  },
  "language_info": {
   "codemirror_mode": {
    "name": "ipython",
    "version": 3
   },
   "file_extension": ".py",
   "mimetype": "text/x-python",
   "name": "python",
   "nbconvert_exporter": "python",
   "pygments_lexer": "ipython3",
   "version": "3.12.3"
  }
 },
 "nbformat": 4,
 "nbformat_minor": 5
}
